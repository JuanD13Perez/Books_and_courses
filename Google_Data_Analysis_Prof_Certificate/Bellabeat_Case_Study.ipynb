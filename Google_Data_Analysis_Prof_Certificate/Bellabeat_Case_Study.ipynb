{
 "cells": [
  {
   "cell_type": "markdown",
   "id": "0c464899-a198-4fc3-a62f-0297faf67bd4",
   "metadata": {
    "tags": []
   },
   "source": [
    "# Bella Beat Case Study\n",
    "Este proyecto hace parte del certificado profesional en análisis de datos de Google.\n",
    "Queremos responder las siguientes preguntas:\n",
    "\n",
    "* Cuáles son las tendencias en el uso de los dispositivos de rastreo de indicadores de salud?\n",
    "* Cómo podrían dichas tendencias aplicar a los clientes de Bellabeat?\n",
    "* Cómo podrían ayudar dichas tendencias a la estrategia de marketing de BellaBeat?\n",
    "\n",
    "Bellabeat es una compañía que vende dispositivos tecnológicos que permiten rastrear varios indicadores de salud, por ejemplo ritmo cardíaco, calorías, sueño, etc. Aquí queremos encontrar tendencias en el uso de un dispostivo concreto \"Fitbit\". Los datos se encuentran en [Kaggle](https://www.kaggle.com/datasets/arashnic/fitbit) de forma abierta. Fueron suministrados por 30 usuarios de dicho dispositivo y contienen información detallada minuto a minuto de sus indicadores de salud.\n",
    "\n",
    "El orden del NoteBook es el siguiente:\n",
    "\n",
    "1) Limpieza de datos.\n",
    "2) Análisis de datos.\n",
    "\n",
    "Hacía el final se encuentra un apéndice donde se cargan los datos y se analiza, de forma pre-eliminar, la estructura y la relación de los conjuntos de datos.\n",
    "\n",
    "\n"
   ]
  },
  {
   "cell_type": "code",
   "execution_count": 1,
   "id": "846fef35-680b-42c6-b6a2-da031273ab75",
   "metadata": {},
   "outputs": [],
   "source": [
    "import pandas as pd\n",
    "import numpy as np \n",
    "\n",
    "#Graphical Libraries\n",
    "import matplotlib.pyplot as plt\n",
    "import seaborn as sns\n"
   ]
  },
  {
   "cell_type": "markdown",
   "id": "28a6779b-46c4-4fdf-a140-c0ec2646ec2b",
   "metadata": {},
   "source": [
    "## 1. Data cleaning\n",
    "\n",
    "Para la limpieza de datos tenga en cuenta que los datos ya se encuntran cargados. **Corra primero el apéndice**.\n",
    "La serie all_df contiene todos los dataFrames indexados por sus nombres. \n",
    "\n",
    "Para la limpieza de datos vamos a empezar analizando los datasets cuyo nombre es 'minutesXNarrow' que son, de acuerdo a los descubrimientos del apéndice, los datos con los que se construyen los demás datasets.\n",
    "Tenemos 4 de ellos, a saber:\n",
    "* minuteCaloriesNarrow_merged -- Calorias\n",
    "* minuteIntensitiesNarrow_merged -- Intensidades\n",
    "* minuteMETsNarrow_merged -- MET\n",
    "* minuteStepsNarrow_merged -- Step\n",
    "\n",
    "Adicionalmente tenemos los datasets:\n",
    "minuteSleep_merged, heartrate_seconds_merged y weightLogInfo_merged que necesitan más investigación.\n",
    "\n",
    "Iniciaremos con algunos 'Sanity Checks'.\n"
   ]
  },
  {
   "cell_type": "markdown",
   "id": "fabcf501-23e9-4648-8605-c7be54954c45",
   "metadata": {},
   "source": [
    "### Cantidad de registros"
   ]
  },
  {
   "cell_type": "code",
   "execution_count": 20,
   "id": "91c75f88-d573-49b4-88bf-4a912086b7cd",
   "metadata": {},
   "outputs": [
    {
     "data": {
      "text/plain": [
       "True"
      ]
     },
     "execution_count": 20,
     "metadata": {},
     "output_type": "execute_result"
    }
   ],
   "source": [
    "\n",
    "count_calories = all_df['minuteCaloriesNarrow_merged'].groupby(['Id']).size().sort_values(ascending = False).reset_index()\n",
    "count_intensities = all_df['minuteIntensitiesNarrow_merged'].groupby(['Id']).size().sort_values(ascending = False).reset_index()\n",
    "count_MET = all_df['minuteMETsNarrow_merged'].groupby(['Id']).size().sort_values(ascending = False).reset_index()\n",
    "count_Steps = all_df['minuteStepsNarrow_merged'].groupby(['Id']).size().sort_values(ascending = False).reset_index()\n",
    "\n",
    "# Son iguales la cantidad de registros\n",
    "(count_calories.equals(count_intensities)) and ( count_intensities.equals(count_MET)) and \\\n",
    "(count_MET.equals(count_Steps))"
   ]
  },
  {
   "cell_type": "markdown",
   "id": "1e6232e9-0940-4b5a-931b-64b65ea7fa5e",
   "metadata": {},
   "source": [
    "Resulta que la cantidad de registros son iguales para cada id en los 4 datasets cuyo nombre es la forma 'MinuteXNarrow' (Por eso es True el resultado anterior.)"
   ]
  },
  {
   "cell_type": "markdown",
   "id": "900e1f24-5d29-4dc9-87eb-780a28e1a3e3",
   "metadata": {},
   "source": [
    "### Rango de días (Span Days represented)\n",
    "A continuación analizamos el rango de días que cubren los datos. Recuerde que tenemos información por minuto, así que ahora respondemos, ¿cuántos días equivalen a dichos minutos? o cuántos y quedías están representados en los datasets?"
   ]
  },
  {
   "cell_type": "code",
   "execution_count": 21,
   "id": "188a9f90-7958-469c-aaa9-f43eb4a82e8e",
   "metadata": {},
   "outputs": [
    {
     "data": {
      "text/plain": [
       "Text(0, 0.5, \"Number of Id's\")"
      ]
     },
     "execution_count": 21,
     "metadata": {},
     "output_type": "execute_result"
    },
    {
     "data": {
      "image/png": "[encoded data removed]",
      "text/plain": [
       "<Figure size 1000x400 with 1 Axes>"
      ]
     },
     "metadata": {},
     "output_type": "display_data"
    }
   ],
   "source": [
    "ax = count_calories.set_index('Id').div(60).div(24).plot(figsize = (10,4),\\\n",
    "                                                         use_index = False, \\\n",
    "                                                         title = \"Total span days for Id's in minuteXNarrow\",\\\n",
    "                                                         kind= 'hist',\\\n",
    "                                                         legend= False,\n",
    "                                                         xticks = np.arange(0,33,3, dtype = 'int'))\n",
    "ax.set_xlabel('Number of days')\n",
    "ax.set_ylabel(\"Number of Id's\")"
   ]
  },
  {
   "cell_type": "markdown",
   "id": "50184be5-8a90-4cc9-8ae7-25f27d704564",
   "metadata": {},
   "source": [
    "Abajo podemos ver la cantidad exacta de días representados pars cada id (los datos están transpuestos para ahorrar espacio de visualización). El mínimo es 3.6 días. La diferencia de días hace que los distintos Id's no sean directamente comparables. \n",
    "En este contexto, lo más sensato es no tener en cuenta los Id's que tienen poca representación puesto que pueden sesgar nuestros datos negativamente al realizar agregaciones en el futuro."
   ]
  },
  {
   "cell_type": "code",
   "execution_count": 22,
   "id": "de9f7313-05e7-4967-a5be-cad446cf2df1",
   "metadata": {},
   "outputs": [
    {
     "data": {
      "text/html": [
       "<div>\n",
       "<style scoped>\n",
       "    .dataframe tbody tr th:only-of-type {\n",
       "        vertical-align: middle;\n",
       "    }\n",
       "\n",
       "    .dataframe tbody tr th {\n",
       "        vertical-align: top;\n",
       "    }\n",
       "\n",
       "    .dataframe thead th {\n",
       "        text-align: right;\n",
       "    }\n",
       "</style>\n",
       "<table border=\"1\" class=\"dataframe\">\n",
       "  <thead>\n",
       "    <tr style=\"text-align: right;\">\n",
       "      <th>Id</th>\n",
       "      <th>1927972279</th>\n",
       "      <th>2026352035</th>\n",
       "      <th>2873212765</th>\n",
       "      <th>4558609924</th>\n",
       "      <th>1624580081</th>\n",
       "      <th>4388161847</th>\n",
       "      <th>8053475328</th>\n",
       "      <th>2022484408</th>\n",
       "      <th>2320127002</th>\n",
       "      <th>8877689391</th>\n",
       "      <th>...</th>\n",
       "      <th>3977333714</th>\n",
       "      <th>8792009665</th>\n",
       "      <th>6290855005</th>\n",
       "      <th>6117666160</th>\n",
       "      <th>6775888955</th>\n",
       "      <th>7007744171</th>\n",
       "      <th>3372868164</th>\n",
       "      <th>8253242879</th>\n",
       "      <th>2347167796</th>\n",
       "      <th>4057192912</th>\n",
       "    </tr>\n",
       "  </thead>\n",
       "  <tbody>\n",
       "    <tr>\n",
       "      <th>0</th>\n",
       "      <td>30.666667</td>\n",
       "      <td>30.666667</td>\n",
       "      <td>30.666667</td>\n",
       "      <td>30.666667</td>\n",
       "      <td>30.666667</td>\n",
       "      <td>30.625</td>\n",
       "      <td>30.625</td>\n",
       "      <td>30.625</td>\n",
       "      <td>30.625</td>\n",
       "      <td>30.583333</td>\n",
       "      <td>...</td>\n",
       "      <td>29.0</td>\n",
       "      <td>28.0</td>\n",
       "      <td>27.708333</td>\n",
       "      <td>27.5</td>\n",
       "      <td>25.416667</td>\n",
       "      <td>25.041667</td>\n",
       "      <td>19.666667</td>\n",
       "      <td>17.958333</td>\n",
       "      <td>17.25</td>\n",
       "      <td>3.666667</td>\n",
       "    </tr>\n",
       "  </tbody>\n",
       "</table>\n",
       "<p>1 rows × 33 columns</p>\n",
       "</div>"
      ],
      "text/plain": [
       "Id  1927972279  2026352035  2873212765  4558609924  1624580081  4388161847  \\\n",
       "0    30.666667   30.666667   30.666667   30.666667   30.666667      30.625   \n",
       "\n",
       "Id  8053475328  2022484408  2320127002  8877689391  ...  3977333714  \\\n",
       "0       30.625      30.625      30.625   30.583333  ...        29.0   \n",
       "\n",
       "Id  8792009665  6290855005  6117666160  6775888955  7007744171  3372868164  \\\n",
       "0         28.0   27.708333        27.5   25.416667   25.041667   19.666667   \n",
       "\n",
       "Id  8253242879  2347167796  4057192912  \n",
       "0    17.958333       17.25    3.666667  \n",
       "\n",
       "[1 rows x 33 columns]"
      ]
     },
     "execution_count": 22,
     "metadata": {},
     "output_type": "execute_result"
    }
   ],
   "source": [
    "count_calories.set_index('Id').div(24).div(60).T.sort_values(by = 0, axis='columns', ascending = False)"
   ]
  },
  {
   "cell_type": "markdown",
   "id": "8abfffa5-b69c-42e9-9e64-8f233652b2c3",
   "metadata": {},
   "source": [
    "Convertimos los datos temporales a formato datetime para realizar cálculos sobre las fechas."
   ]
  },
  {
   "cell_type": "code",
   "execution_count": 24,
   "id": "a3b17837-f2b0-4f13-ba7f-585f9c42f71a",
   "metadata": {},
   "outputs": [],
   "source": [
    "# Renombramos los Datasets por comodidad.\n",
    "calories = all_df['minuteCaloriesNarrow_merged']\n",
    "intensities = all_df['minuteIntensitiesNarrow_merged']\n",
    "MET = all_df['minuteMETsNarrow_merged']\n",
    "steps = all_df['minuteStepsNarrow_merged']"
   ]
  },
  {
   "cell_type": "code",
   "execution_count": 25,
   "id": "aac856d9-f5e1-4fa0-b5dc-a612b7229617",
   "metadata": {},
   "outputs": [],
   "source": [
    "# We convert ActivityMinute to datetime. Calories already converted in appendix. \n",
    "# We also create a Day_and_hour to help group by in the future\n",
    "\n",
    "# calories['datetime'] = pd.to_datetime( calories.pop('ActivityMinute'), \\\n",
    "#                                           format = '%m/%d/%Y %I:%M:%S %p' )\n",
    "\n",
    "# Intensidades ---\n",
    "intensities['datetime'] = pd.to_datetime( intensities.pop('ActivityMinute'), \\\n",
    "                                          format = '%m/%d/%Y %I:%M:%S %p' )\n",
    "intensities['Day_and_hour'] = intensities['datetime'].dt.strftime('%Y-%m-%d %H')\n",
    "\n",
    "# MET ----\n",
    "MET['datetime'] = pd.to_datetime( MET.pop('ActivityMinute'), \\\n",
    "                                          format = '%m/%d/%Y %I:%M:%S %p' )\n",
    "MET['Day_and_hour'] = MET['datetime'].dt.strftime('%Y-%m-%d %H')\n",
    "\n",
    "\n",
    "#Steps -----\n",
    "steps['datetime'] = pd.to_datetime( steps.pop('ActivityMinute'), \\\n",
    "                                    format = '%m/%d/%Y %I:%M:%S %p' )\n",
    "steps['Day_and_hour'] = steps['datetime'].dt.strftime('%Y-%m-%d %H')\n"
   ]
  },
  {
   "cell_type": "markdown",
   "id": "d624206d-d5d0-44a9-b405-ae3f974518b5",
   "metadata": {},
   "source": [
    "A continuación analizamos el rango explícito de fechas con horas que cubre cada Id.\n",
    "Notamos lo siguiente: El mínimo siempre es 2016-04-12 00:00:00 y el máximo varía demasiado. Siendo 2016-05-12 15:59:00 es valor más alto."
   ]
  },
  {
   "cell_type": "code",
   "execution_count": 27,
   "id": "fb3e295e-1505-4169-9127-a13e3543e6dd",
   "metadata": {},
   "outputs": [
    {
     "data": {
      "text/html": [
       "<div>\n",
       "<style scoped>\n",
       "    .dataframe tbody tr th:only-of-type {\n",
       "        vertical-align: middle;\n",
       "    }\n",
       "\n",
       "    .dataframe tbody tr th {\n",
       "        vertical-align: top;\n",
       "    }\n",
       "\n",
       "    .dataframe thead th {\n",
       "        text-align: right;\n",
       "    }\n",
       "</style>\n",
       "<table border=\"1\" class=\"dataframe\">\n",
       "  <thead>\n",
       "    <tr style=\"text-align: right;\">\n",
       "      <th></th>\n",
       "      <th>min_date</th>\n",
       "      <th>max_date</th>\n",
       "    </tr>\n",
       "    <tr>\n",
       "      <th>Id</th>\n",
       "      <th></th>\n",
       "      <th></th>\n",
       "    </tr>\n",
       "  </thead>\n",
       "  <tbody>\n",
       "    <tr>\n",
       "      <th>1503960366</th>\n",
       "      <td>2016-04-12</td>\n",
       "      <td>2016-05-11 20:59:00</td>\n",
       "    </tr>\n",
       "    <tr>\n",
       "      <th>1624580081</th>\n",
       "      <td>2016-04-12</td>\n",
       "      <td>2016-05-12 15:59:00</td>\n",
       "    </tr>\n",
       "    <tr>\n",
       "      <th>1644430081</th>\n",
       "      <td>2016-04-12</td>\n",
       "      <td>2016-05-11 11:59:00</td>\n",
       "    </tr>\n",
       "    <tr>\n",
       "      <th>1844505072</th>\n",
       "      <td>2016-04-12</td>\n",
       "      <td>2016-05-12 10:59:00</td>\n",
       "    </tr>\n",
       "    <tr>\n",
       "      <th>1927972279</th>\n",
       "      <td>2016-04-12</td>\n",
       "      <td>2016-05-12 15:59:00</td>\n",
       "    </tr>\n",
       "    <tr>\n",
       "      <th>2022484408</th>\n",
       "      <td>2016-04-12</td>\n",
       "      <td>2016-05-12 14:59:00</td>\n",
       "    </tr>\n",
       "    <tr>\n",
       "      <th>2026352035</th>\n",
       "      <td>2016-04-12</td>\n",
       "      <td>2016-05-12 15:59:00</td>\n",
       "    </tr>\n",
       "    <tr>\n",
       "      <th>2320127002</th>\n",
       "      <td>2016-04-12</td>\n",
       "      <td>2016-05-12 14:59:00</td>\n",
       "    </tr>\n",
       "    <tr>\n",
       "      <th>2347167796</th>\n",
       "      <td>2016-04-12</td>\n",
       "      <td>2016-04-29 05:59:00</td>\n",
       "    </tr>\n",
       "    <tr>\n",
       "      <th>2873212765</th>\n",
       "      <td>2016-04-12</td>\n",
       "      <td>2016-05-12 15:59:00</td>\n",
       "    </tr>\n",
       "    <tr>\n",
       "      <th>3372868164</th>\n",
       "      <td>2016-04-12</td>\n",
       "      <td>2016-05-01 15:59:00</td>\n",
       "    </tr>\n",
       "    <tr>\n",
       "      <th>3977333714</th>\n",
       "      <td>2016-04-12</td>\n",
       "      <td>2016-05-10 23:59:00</td>\n",
       "    </tr>\n",
       "    <tr>\n",
       "      <th>4020332650</th>\n",
       "      <td>2016-04-12</td>\n",
       "      <td>2016-05-12 11:59:00</td>\n",
       "    </tr>\n",
       "    <tr>\n",
       "      <th>4057192912</th>\n",
       "      <td>2016-04-12</td>\n",
       "      <td>2016-04-15 15:59:00</td>\n",
       "    </tr>\n",
       "    <tr>\n",
       "      <th>4319703577</th>\n",
       "      <td>2016-04-12</td>\n",
       "      <td>2016-05-12 03:59:00</td>\n",
       "    </tr>\n",
       "    <tr>\n",
       "      <th>4388161847</th>\n",
       "      <td>2016-04-12</td>\n",
       "      <td>2016-05-12 14:59:00</td>\n",
       "    </tr>\n",
       "    <tr>\n",
       "      <th>4445114986</th>\n",
       "      <td>2016-04-12</td>\n",
       "      <td>2016-05-12 12:59:00</td>\n",
       "    </tr>\n",
       "    <tr>\n",
       "      <th>4558609924</th>\n",
       "      <td>2016-04-12</td>\n",
       "      <td>2016-05-12 15:59:00</td>\n",
       "    </tr>\n",
       "    <tr>\n",
       "      <th>4702921684</th>\n",
       "      <td>2016-04-12</td>\n",
       "      <td>2016-05-12 10:59:00</td>\n",
       "    </tr>\n",
       "    <tr>\n",
       "      <th>5553957443</th>\n",
       "      <td>2016-04-12</td>\n",
       "      <td>2016-05-12 09:59:00</td>\n",
       "    </tr>\n",
       "    <tr>\n",
       "      <th>5577150313</th>\n",
       "      <td>2016-04-12</td>\n",
       "      <td>2016-05-11 11:59:00</td>\n",
       "    </tr>\n",
       "    <tr>\n",
       "      <th>6117666160</th>\n",
       "      <td>2016-04-12</td>\n",
       "      <td>2016-05-09 11:59:00</td>\n",
       "    </tr>\n",
       "    <tr>\n",
       "      <th>6290855005</th>\n",
       "      <td>2016-04-12</td>\n",
       "      <td>2016-05-09 16:59:00</td>\n",
       "    </tr>\n",
       "    <tr>\n",
       "      <th>6775888955</th>\n",
       "      <td>2016-04-12</td>\n",
       "      <td>2016-05-07 09:59:00</td>\n",
       "    </tr>\n",
       "    <tr>\n",
       "      <th>6962181067</th>\n",
       "      <td>2016-04-12</td>\n",
       "      <td>2016-05-12 11:59:00</td>\n",
       "    </tr>\n",
       "    <tr>\n",
       "      <th>7007744171</th>\n",
       "      <td>2016-04-12</td>\n",
       "      <td>2016-05-07 00:59:00</td>\n",
       "    </tr>\n",
       "    <tr>\n",
       "      <th>7086361926</th>\n",
       "      <td>2016-04-12</td>\n",
       "      <td>2016-05-12 12:59:00</td>\n",
       "    </tr>\n",
       "    <tr>\n",
       "      <th>8053475328</th>\n",
       "      <td>2016-04-12</td>\n",
       "      <td>2016-05-12 14:59:00</td>\n",
       "    </tr>\n",
       "    <tr>\n",
       "      <th>8253242879</th>\n",
       "      <td>2016-04-12</td>\n",
       "      <td>2016-04-29 22:59:00</td>\n",
       "    </tr>\n",
       "    <tr>\n",
       "      <th>8378563200</th>\n",
       "      <td>2016-04-12</td>\n",
       "      <td>2016-05-12 12:59:00</td>\n",
       "    </tr>\n",
       "    <tr>\n",
       "      <th>8583815059</th>\n",
       "      <td>2016-04-12</td>\n",
       "      <td>2016-05-11 21:59:00</td>\n",
       "    </tr>\n",
       "    <tr>\n",
       "      <th>8792009665</th>\n",
       "      <td>2016-04-12</td>\n",
       "      <td>2016-05-09 23:59:00</td>\n",
       "    </tr>\n",
       "    <tr>\n",
       "      <th>8877689391</th>\n",
       "      <td>2016-04-12</td>\n",
       "      <td>2016-05-12 13:59:00</td>\n",
       "    </tr>\n",
       "  </tbody>\n",
       "</table>\n",
       "</div>"
      ],
      "text/plain": [
       "             min_date            max_date\n",
       "Id                                       \n",
       "1503960366 2016-04-12 2016-05-11 20:59:00\n",
       "1624580081 2016-04-12 2016-05-12 15:59:00\n",
       "1644430081 2016-04-12 2016-05-11 11:59:00\n",
       "1844505072 2016-04-12 2016-05-12 10:59:00\n",
       "1927972279 2016-04-12 2016-05-12 15:59:00\n",
       "2022484408 2016-04-12 2016-05-12 14:59:00\n",
       "2026352035 2016-04-12 2016-05-12 15:59:00\n",
       "2320127002 2016-04-12 2016-05-12 14:59:00\n",
       "2347167796 2016-04-12 2016-04-29 05:59:00\n",
       "2873212765 2016-04-12 2016-05-12 15:59:00\n",
       "3372868164 2016-04-12 2016-05-01 15:59:00\n",
       "3977333714 2016-04-12 2016-05-10 23:59:00\n",
       "4020332650 2016-04-12 2016-05-12 11:59:00\n",
       "4057192912 2016-04-12 2016-04-15 15:59:00\n",
       "4319703577 2016-04-12 2016-05-12 03:59:00\n",
       "4388161847 2016-04-12 2016-05-12 14:59:00\n",
       "4445114986 2016-04-12 2016-05-12 12:59:00\n",
       "4558609924 2016-04-12 2016-05-12 15:59:00\n",
       "4702921684 2016-04-12 2016-05-12 10:59:00\n",
       "5553957443 2016-04-12 2016-05-12 09:59:00\n",
       "5577150313 2016-04-12 2016-05-11 11:59:00\n",
       "6117666160 2016-04-12 2016-05-09 11:59:00\n",
       "6290855005 2016-04-12 2016-05-09 16:59:00\n",
       "6775888955 2016-04-12 2016-05-07 09:59:00\n",
       "6962181067 2016-04-12 2016-05-12 11:59:00\n",
       "7007744171 2016-04-12 2016-05-07 00:59:00\n",
       "7086361926 2016-04-12 2016-05-12 12:59:00\n",
       "8053475328 2016-04-12 2016-05-12 14:59:00\n",
       "8253242879 2016-04-12 2016-04-29 22:59:00\n",
       "8378563200 2016-04-12 2016-05-12 12:59:00\n",
       "8583815059 2016-04-12 2016-05-11 21:59:00\n",
       "8792009665 2016-04-12 2016-05-09 23:59:00\n",
       "8877689391 2016-04-12 2016-05-12 13:59:00"
      ]
     },
     "execution_count": 27,
     "metadata": {},
     "output_type": "execute_result"
    }
   ],
   "source": [
    "# Exploremos los rangos minimos y maximos de fechas.\n",
    "max_min_dates_table = calories.groupby('Id').agg(min_date = ('datetime', 'min'),\n",
    "                           max_date = ('datetime', 'max'))\n",
    "max_min_dates_table"
   ]
  },
  {
   "cell_type": "markdown",
   "id": "6ae04421-43db-4852-8c7c-556df1ed153d",
   "metadata": {
    "tags": []
   },
   "source": [
    "### Filtro por rango de fechas común\n",
    "Decidimos solo considerar los Id's que cuentan con el rango completo:\n",
    "2016-04-12 00:00:00 - 2016-05-12 00:00:00.\n",
    "\n",
    "De esta manera tenemos uniformidad en los registros de los clientes y podemos estar seguros de hacer comparaciones completas entre los mismos."
   ]
  },
  {
   "cell_type": "code",
   "execution_count": 28,
   "id": "6320d318-1c8b-42cb-8036-7e6604b0f8ba",
   "metadata": {},
   "outputs": [],
   "source": [
    "from datetime import datetime\n",
    "limit_date = datetime.strptime('2016-05-11 23:59:01', '%Y-%m-%d %H:%M:%S')\n",
    "\n",
    "ids_full_month = max_min_dates_table[max_min_dates_table['max_date'] >= limit_date].index\n",
    "\n",
    "#Just id's with full month\n",
    "calories = calories.loc[calories['Id'].isin(ids_full_month)]\n",
    "intensities = intensities.loc[intensities['Id'].isin(ids_full_month)]\n",
    "MET = MET.loc[MET['Id'].isin(ids_full_month)]\n",
    "steps = steps.loc[steps['Id'].isin(ids_full_month)]\n",
    "\n",
    "# Now, delete extra records.\n",
    "calories = calories.loc[calories['datetime']<limit_date]\n",
    "intensities = intensities.loc[intensities['datetime']<limit_date]\n",
    "MET = MET.loc[MET['datetime']<limit_date]\n",
    "steps = steps.loc[steps['datetime']<limit_date]\n"
   ]
  },
  {
   "cell_type": "markdown",
   "id": "7a2370fc-f37b-435d-a8dd-7a113968c307",
   "metadata": {
    "tags": []
   },
   "source": [
    "### Duplicados\n",
    "Como podemos observar a continuación no hay valores duplicados por Id y fecha."
   ]
  },
  {
   "cell_type": "code",
   "execution_count": 36,
   "id": "a9a8364f-19ec-4e24-8421-b461cce806a2",
   "metadata": {},
   "outputs": [
    {
     "name": "stdout",
     "output_type": "stream",
     "text": [
      "0\n",
      "0\n",
      "0\n",
      "0\n"
     ]
    }
   ],
   "source": [
    "print(calories.duplicated(['Id', 'datetime']).sum())\n",
    "print(intensities.duplicated(['Id', 'datetime']).sum())\n",
    "print(MET.duplicated(['Id', 'datetime']).sum())\n",
    "print(steps.duplicated(['Id', 'datetime']).sum())"
   ]
  },
  {
   "cell_type": "markdown",
   "id": "6c12348d-8527-4553-8fcd-a6f5496ab40d",
   "metadata": {},
   "source": [
    "### Consistencia de las fechas\n",
    "Para verificar que nuestra limpieza es correcta, debemos asegurarnos de que la fecha que estamos cubriendo es la correcta.De acuerdo a lo que hemos hecho nuestro span de fechas debe coincidir con el span desde 2016-04-12 00:00:00 hasta 2016-05-11 23:59:00 minuto a minuto."
   ]
  },
  {
   "cell_type": "code",
   "execution_count": 62,
   "id": "83f3c46f-aa5b-4350-b38d-8191f522bd79",
   "metadata": {},
   "outputs": [
    {
     "data": {
      "text/plain": [
       "0       2016-04-12 00:00:00\n",
       "1       2016-04-12 00:01:00\n",
       "2       2016-04-12 00:02:00\n",
       "3       2016-04-12 00:03:00\n",
       "4       2016-04-12 00:04:00\n",
       "                ...        \n",
       "43195   2016-05-11 23:55:00\n",
       "43196   2016-05-11 23:56:00\n",
       "43197   2016-05-11 23:57:00\n",
       "43198   2016-05-11 23:58:00\n",
       "43199   2016-05-11 23:59:00\n",
       "Length: 43200, dtype: datetime64[ns]"
      ]
     },
     "execution_count": 62,
     "metadata": {},
     "output_type": "execute_result"
    }
   ],
   "source": [
    "rango_completo = pd.Series(pd.date_range('2016-04-12 00:00:00', '2016-05-11 23:59:00' , freq= 'T'))\n",
    "rango_completo"
   ]
  },
  {
   "cell_type": "code",
   "execution_count": 72,
   "id": "9067732d-f369-4118-bfa6-79b9cf3d3486",
   "metadata": {},
   "outputs": [
    {
     "name": "stdout",
     "output_type": "stream",
     "text": [
      "True\n",
      "True\n",
      "True\n",
      "True\n"
     ]
    }
   ],
   "source": [
    "def ver_rango_completo(group):\n",
    "    return (group.datetime.reset_index(drop=True)).equals(rango_correcto)\n",
    "# Añade columna booleana que evalua para cada id si el rango de datetime es igual rango_completo.\n",
    "# Depués con all() devuelve True indicando que todos los Id's tienen el rango completo.\n",
    "print(calories.groupby('Id').apply(ver_rango_completo).all())\n",
    "print(intensities.groupby('Id').apply(ver_rango_completo).all())\n",
    "print(MET.groupby('Id').apply(ver_rango_completo).all())\n",
    "print(steps.groupby('Id').apply(ver_rango_completo).all())"
   ]
  },
  {
   "cell_type": "markdown",
   "id": "9838b5eb-9b8c-47cd-844a-0590b214c2c8",
   "metadata": {},
   "source": [
    "### Sueño\n",
    "\n",
    "Notamos \n",
    "1) No todos los id's de los datos anteriores están representados. En realidad solo hay 15 de los 19. Para los otros 4 no hay datos.\n",
    "2) Muy pocos id's tienen varios registros. De hecho lo normal es que falten varios registros de sueño."
   ]
  },
  {
   "cell_type": "code",
   "execution_count": 102,
   "id": "aea4aa05-29f8-4f85-ad06-1aa86e24732e",
   "metadata": {},
   "outputs": [
    {
     "data": {
      "text/plain": [
       "<AxesSubplot:xlabel='Id'>"
      ]
     },
     "execution_count": 102,
     "metadata": {},
     "output_type": "execute_result"
    },
    {
     "data": {
      "image/png": "[encoded data removed]",
      "text/plain": [
       "<Figure size 640x480 with 1 Axes>"
      ]
     },
     "metadata": {},
     "output_type": "display_data"
    }
   ],
   "source": [
    "sleep = all_df['sleepDay_merged'].copy()\n",
    "sleep = sleep[sleep['Id'].isin(ids)] #Filtramos por Id\n",
    "\n",
    "# Representan cuánto se durmió entre la noche anterior y el día actual.\n",
    "sleep['datetime'] = pd.to_datetime(sleep.pop('SleepDay') , format = '%m/%d/%Y %I:%M:%S %p' )\n",
    "\n",
    "sleep.groupby('Id')['datetime'].agg('count').plot(kind= 'bar', color = 'orange')"
   ]
  },
  {
   "cell_type": "code",
   "execution_count": 128,
   "id": "017fc226-0fa1-44a9-8656-e46d8dcc6de8",
   "metadata": {},
   "outputs": [
    {
     "data": {
      "text/html": [
       "<div>\n",
       "<style scoped>\n",
       "    .dataframe tbody tr th:only-of-type {\n",
       "        vertical-align: middle;\n",
       "    }\n",
       "\n",
       "    .dataframe tbody tr th {\n",
       "        vertical-align: top;\n",
       "    }\n",
       "\n",
       "    .dataframe thead th {\n",
       "        text-align: right;\n",
       "    }\n",
       "</style>\n",
       "<table border=\"1\" class=\"dataframe\">\n",
       "  <thead>\n",
       "    <tr style=\"text-align: right;\">\n",
       "      <th></th>\n",
       "      <th>min_date</th>\n",
       "      <th>max_date</th>\n",
       "      <th>count</th>\n",
       "    </tr>\n",
       "    <tr>\n",
       "      <th>Id</th>\n",
       "      <th></th>\n",
       "      <th></th>\n",
       "      <th></th>\n",
       "    </tr>\n",
       "  </thead>\n",
       "  <tbody>\n",
       "    <tr>\n",
       "      <th>8378563200</th>\n",
       "      <td>2016-04-12</td>\n",
       "      <td>2016-05-12</td>\n",
       "      <td>32</td>\n",
       "    </tr>\n",
       "    <tr>\n",
       "      <th>5553957443</th>\n",
       "      <td>2016-04-12</td>\n",
       "      <td>2016-05-12</td>\n",
       "      <td>31</td>\n",
       "    </tr>\n",
       "    <tr>\n",
       "      <th>6962181067</th>\n",
       "      <td>2016-04-12</td>\n",
       "      <td>2016-05-12</td>\n",
       "      <td>31</td>\n",
       "    </tr>\n",
       "    <tr>\n",
       "      <th>2026352035</th>\n",
       "      <td>2016-04-12</td>\n",
       "      <td>2016-05-12</td>\n",
       "      <td>28</td>\n",
       "    </tr>\n",
       "    <tr>\n",
       "      <th>4445114986</th>\n",
       "      <td>2016-04-12</td>\n",
       "      <td>2016-05-12</td>\n",
       "      <td>28</td>\n",
       "    </tr>\n",
       "    <tr>\n",
       "      <th>4702921684</th>\n",
       "      <td>2016-04-12</td>\n",
       "      <td>2016-05-12</td>\n",
       "      <td>28</td>\n",
       "    </tr>\n",
       "    <tr>\n",
       "      <th>4319703577</th>\n",
       "      <td>2016-04-14</td>\n",
       "      <td>2016-05-12</td>\n",
       "      <td>26</td>\n",
       "    </tr>\n",
       "    <tr>\n",
       "      <th>4388161847</th>\n",
       "      <td>2016-04-15</td>\n",
       "      <td>2016-05-11</td>\n",
       "      <td>24</td>\n",
       "    </tr>\n",
       "    <tr>\n",
       "      <th>7086361926</th>\n",
       "      <td>2016-04-12</td>\n",
       "      <td>2016-05-12</td>\n",
       "      <td>24</td>\n",
       "    </tr>\n",
       "    <tr>\n",
       "      <th>4020332650</th>\n",
       "      <td>2016-04-12</td>\n",
       "      <td>2016-05-10</td>\n",
       "      <td>8</td>\n",
       "    </tr>\n",
       "    <tr>\n",
       "      <th>1927972279</th>\n",
       "      <td>2016-04-12</td>\n",
       "      <td>2016-04-28</td>\n",
       "      <td>5</td>\n",
       "    </tr>\n",
       "    <tr>\n",
       "      <th>4558609924</th>\n",
       "      <td>2016-04-21</td>\n",
       "      <td>2016-05-08</td>\n",
       "      <td>5</td>\n",
       "    </tr>\n",
       "    <tr>\n",
       "      <th>1844505072</th>\n",
       "      <td>2016-04-15</td>\n",
       "      <td>2016-05-01</td>\n",
       "      <td>3</td>\n",
       "    </tr>\n",
       "    <tr>\n",
       "      <th>8053475328</th>\n",
       "      <td>2016-04-20</td>\n",
       "      <td>2016-05-07</td>\n",
       "      <td>3</td>\n",
       "    </tr>\n",
       "    <tr>\n",
       "      <th>2320127002</th>\n",
       "      <td>2016-04-23</td>\n",
       "      <td>2016-04-23</td>\n",
       "      <td>1</td>\n",
       "    </tr>\n",
       "  </tbody>\n",
       "</table>\n",
       "</div>"
      ],
      "text/plain": [
       "             min_date   max_date  count\n",
       "Id                                     \n",
       "8378563200 2016-04-12 2016-05-12     32\n",
       "5553957443 2016-04-12 2016-05-12     31\n",
       "6962181067 2016-04-12 2016-05-12     31\n",
       "2026352035 2016-04-12 2016-05-12     28\n",
       "4445114986 2016-04-12 2016-05-12     28\n",
       "4702921684 2016-04-12 2016-05-12     28\n",
       "4319703577 2016-04-14 2016-05-12     26\n",
       "4388161847 2016-04-15 2016-05-11     24\n",
       "7086361926 2016-04-12 2016-05-12     24\n",
       "4020332650 2016-04-12 2016-05-10      8\n",
       "1927972279 2016-04-12 2016-04-28      5\n",
       "4558609924 2016-04-21 2016-05-08      5\n",
       "1844505072 2016-04-15 2016-05-01      3\n",
       "8053475328 2016-04-20 2016-05-07      3\n",
       "2320127002 2016-04-23 2016-04-23      1"
      ]
     },
     "execution_count": 128,
     "metadata": {},
     "output_type": "execute_result"
    }
   ],
   "source": [
    "sleep.groupby('Id').agg(min_date = ('datetime', 'min'),\\\n",
    "                        max_date = ('datetime', 'max'), \\\n",
    "                        count = ('datetime', 'count')).sort_values(by = 'count', ascending = False)"
   ]
  },
  {
   "cell_type": "markdown",
   "id": "f394a8c6-8f87-46e7-89ba-c69686b57eeb",
   "metadata": {},
   "source": [
    "En este punto lo conveniente sería -de acuerdo al certificado porf. de Google- preguntar al dueño del conjunto de datos sobre las posibles razones de la ausencia de datos y su recomendación para tratar la ausencia de información del sueño ¿Conviene descartar esta información?\n",
    "\n",
    "Otra posibilidad sería cambiar de conjunto de datos. Sin embargo, dado que el meta-objetivo del proyecto es demostrar habilidades de análisis de datos optamos por la siguiente metodología:\n",
    "\n",
    "1) Interpolar los datos faltantes para los Id's que se encuentran presentes.\n",
    "2) Para los Id's faltantes haremos un statistical matching que permita encontrar los id's más similares."
   ]
  },
  {
   "cell_type": "markdown",
   "id": "130375f0-0f8e-4731-aa85-16fa73400c06",
   "metadata": {},
   "source": [
    "#### Interpolación de minutos de sueño y minutos en cama\n",
    "\n",
    "A continuación interpolamos el tiempo de sueño y el tiempo de cama para los 15 id's presentes en el dataset sleep. Interpolamos de la siguiente manera:\n",
    "Para cada día faltante creamos un valor aleatorio con distribución $normal$($\\mu_{id} $ , $\\sigma_{id} $). Donde $\\mu_{id} $  representa el promedio del respectivo id y $\\sigma_{id} $ indica la desviación estándar de los registros disponibles del respectivo id. En el caso del Id que tiene un solo registro usamos una desviación estándar de 1. De esta manera los valores de sueño tienen una distribución normal. En particular los Id's con registros de sueño menos volatiles tienen valores aleatorios menos volatiles. Los que cuentan con todos los registros se mantienen inalterados.\n",
    "\n",
    "El código de abajo puede paracer largo y tedioso. Pero en realidad se puso de esta manera para que el proceso paso a paso sea más evidente. Nota: El código puede ser lento en un dataset grande."
   ]
  },
  {
   "cell_type": "code",
   "execution_count": 265,
   "id": "923ea798-fb0b-425d-9eab-e11f5957bb86",
   "metadata": {},
   "outputs": [],
   "source": [
    "test = sleep.copy()\n",
    "np.random.seed(13)\n",
    "dates_index = pd.DatetimeIndex(calories.datetime.dt.date.unique())\n",
    "\n",
    "all_sleep = []\n",
    "for iden in test['Id'].unique():\n",
    "    group = test[test['Id'] == iden]\n",
    "    mu = group['TotalMinutesAsleep'].mean()\n",
    "    if np.isnan(group['TotalMinutesAsleep'].std()):\n",
    "        sigma = 1\n",
    "    else:\n",
    "        sigma = group['TotalMinutesAsleep'].std()\n",
    "    try:\n",
    "        old_index_series = group.set_index('datetime')\n",
    "        new_series = old_index_series.loc[~old_index_series.index.duplicated()]\n",
    "        new_series = new_series['TotalMinutesAsleep'].reindex(dates_index)\n",
    "    except:\n",
    "        print(iden)\n",
    "        break\n",
    "    #Interpolamos los valores faltantes con valores aleatorios de normal(mu,sigma). Estimamos que los usuarios duermen con una distr normal.\n",
    "    fulled = new_series.map(lambda x: x if not np.isnan(x) else int(mu + sigma* np.random.standard_normal(size = 1))) \n",
    "    df = fulled.to_frame().reset_index().rename({'index': 'datetime'},axis = 'columns' )\n",
    "    df['Id'] = iden\n",
    "    \n",
    "    \n",
    "    # REPETIMOS PERO CON TotalTimeInBed ------------------------------------------------------------\n",
    "    group2 = test[test['Id'] == iden]\n",
    "    mu2 = group['TotalTimeInBed'].mean()\n",
    "    if np.isnan(group['TotalTimeInBed'].std()):\n",
    "        sigma2 = 1\n",
    "    else:\n",
    "        sigma2 = group['TotalTimeInBed'].std()\n",
    "    try:\n",
    "        old_index_series2 = group2.set_index('datetime')\n",
    "        new_series2 = old_index_series2.loc[~old_index_series2.index.duplicated()]\n",
    "        new_series2 = new_series2['TotalTimeInBed'].reindex(dates_index)\n",
    "    except:\n",
    "        print(iden)\n",
    "        break\n",
    "    fulled2 = new_series2.map(lambda x: x if not np.isnan(x) else int(mu2 + sigma2* np.random.standard_normal(size = 1)))\n",
    "    df2 = fulled2.to_frame().reset_index().rename({'index': 'datetime'},axis = 'columns' )\n",
    "    df2['Id'] = iden\n",
    "    \n",
    "    full_df = df.merge(df2, on = ['Id', 'datetime'])\n",
    "    all_sleep.append(full_df)"
   ]
  },
  {
   "cell_type": "code",
   "execution_count": 269,
   "id": "255dd42f-f72a-4bb6-9b03-560e35976a03",
   "metadata": {},
   "outputs": [
    {
     "data": {
      "text/html": [
       "<div>\n",
       "<style scoped>\n",
       "    .dataframe tbody tr th:only-of-type {\n",
       "        vertical-align: middle;\n",
       "    }\n",
       "\n",
       "    .dataframe tbody tr th {\n",
       "        vertical-align: top;\n",
       "    }\n",
       "\n",
       "    .dataframe thead th {\n",
       "        text-align: right;\n",
       "    }\n",
       "</style>\n",
       "<table border=\"1\" class=\"dataframe\">\n",
       "  <thead>\n",
       "    <tr style=\"text-align: right;\">\n",
       "      <th></th>\n",
       "      <th>Id</th>\n",
       "      <th>datetime</th>\n",
       "      <th>TotalMinutesAsleep</th>\n",
       "      <th>TotalTimeInBed</th>\n",
       "    </tr>\n",
       "  </thead>\n",
       "  <tbody>\n",
       "    <tr>\n",
       "      <th>0</th>\n",
       "      <td>1844505072</td>\n",
       "      <td>2016-04-12</td>\n",
       "      <td>604.0</td>\n",
       "      <td>961.0</td>\n",
       "    </tr>\n",
       "    <tr>\n",
       "      <th>1</th>\n",
       "      <td>1844505072</td>\n",
       "      <td>2016-04-13</td>\n",
       "      <td>702.0</td>\n",
       "      <td>961.0</td>\n",
       "    </tr>\n",
       "    <tr>\n",
       "      <th>2</th>\n",
       "      <td>1844505072</td>\n",
       "      <td>2016-04-14</td>\n",
       "      <td>649.0</td>\n",
       "      <td>961.0</td>\n",
       "    </tr>\n",
       "    <tr>\n",
       "      <th>3</th>\n",
       "      <td>1844505072</td>\n",
       "      <td>2016-04-15</td>\n",
       "      <td>644.0</td>\n",
       "      <td>961.0</td>\n",
       "    </tr>\n",
       "    <tr>\n",
       "      <th>4</th>\n",
       "      <td>1844505072</td>\n",
       "      <td>2016-04-16</td>\n",
       "      <td>681.0</td>\n",
       "      <td>961.0</td>\n",
       "    </tr>\n",
       "    <tr>\n",
       "      <th>...</th>\n",
       "      <td>...</td>\n",
       "      <td>...</td>\n",
       "      <td>...</td>\n",
       "      <td>...</td>\n",
       "    </tr>\n",
       "    <tr>\n",
       "      <th>445</th>\n",
       "      <td>8378563200</td>\n",
       "      <td>2016-05-07</td>\n",
       "      <td>459.0</td>\n",
       "      <td>513.0</td>\n",
       "    </tr>\n",
       "    <tr>\n",
       "      <th>446</th>\n",
       "      <td>8378563200</td>\n",
       "      <td>2016-05-08</td>\n",
       "      <td>545.0</td>\n",
       "      <td>606.0</td>\n",
       "    </tr>\n",
       "    <tr>\n",
       "      <th>447</th>\n",
       "      <td>8378563200</td>\n",
       "      <td>2016-05-09</td>\n",
       "      <td>359.0</td>\n",
       "      <td>399.0</td>\n",
       "    </tr>\n",
       "    <tr>\n",
       "      <th>448</th>\n",
       "      <td>8378563200</td>\n",
       "      <td>2016-05-10</td>\n",
       "      <td>342.0</td>\n",
       "      <td>391.0</td>\n",
       "    </tr>\n",
       "    <tr>\n",
       "      <th>449</th>\n",
       "      <td>8378563200</td>\n",
       "      <td>2016-05-11</td>\n",
       "      <td>368.0</td>\n",
       "      <td>387.0</td>\n",
       "    </tr>\n",
       "  </tbody>\n",
       "</table>\n",
       "<p>450 rows × 4 columns</p>\n",
       "</div>"
      ],
      "text/plain": [
       "             Id   datetime  TotalMinutesAsleep  TotalTimeInBed\n",
       "0    1844505072 2016-04-12               604.0           961.0\n",
       "1    1844505072 2016-04-13               702.0           961.0\n",
       "2    1844505072 2016-04-14               649.0           961.0\n",
       "3    1844505072 2016-04-15               644.0           961.0\n",
       "4    1844505072 2016-04-16               681.0           961.0\n",
       "..          ...        ...                 ...             ...\n",
       "445  8378563200 2016-05-07               459.0           513.0\n",
       "446  8378563200 2016-05-08               545.0           606.0\n",
       "447  8378563200 2016-05-09               359.0           399.0\n",
       "448  8378563200 2016-05-10               342.0           391.0\n",
       "449  8378563200 2016-05-11               368.0           387.0\n",
       "\n",
       "[450 rows x 4 columns]"
      ]
     },
     "execution_count": 269,
     "metadata": {},
     "output_type": "execute_result"
    }
   ],
   "source": [
    "new_sleep = pd.concat(all_sleep, ignore_index = True)\n",
    "new_sleep = new_sleep[['Id','datetime','TotalMinutesAsleep', 'TotalTimeInBed']]\n",
    "new_sleep"
   ]
  },
  {
   "cell_type": "code",
   "execution_count": 283,
   "id": "d493b38b-2a79-4bc7-9838-021f3444f719",
   "metadata": {},
   "outputs": [
    {
     "name": "stdout",
     "output_type": "stream",
     "text": [
      "441 441.0 True\n",
      "455 455.0 True\n",
      "357 357.0 True\n",
      "377 377.0 True\n",
      "651 651.0 True\n",
      "350 350.0 True\n",
      "520 520.0 True\n",
      "357 357.0 True\n",
      "658 658.0 True\n",
      "399 399.0 True\n",
      "322 322.0 True\n",
      "631 631.0 True\n",
      "553 553.0 True\n",
      "433 433.0 True\n",
      "412 412.0 True\n",
      "347 347.0 True\n",
      "421 421.0 True\n",
      "450 450.0 True\n",
      "775 775.0 True\n",
      "622 622.0 True\n",
      "409 409.0 True\n",
      "380 380.0 True\n",
      "447 447.0 True\n",
      "419 419.0 True\n",
      "400 400.0 True\n",
      "442 442.0 True\n",
      "568 568.0 True\n",
      "453 453.0 True\n",
      "418 418.0 True\n",
      "463 463.0 True\n"
     ]
    }
   ],
   "source": [
    "#sanity check el id = 5553957443 tiene todos los registros. Corra esta linea solo para verificación.\n",
    "for i in range(len(new_sleep[new_sleep['Id'] == 5553957443])):\n",
    "    x= sleep[sleep['Id'] == 5553957443].set_index('datetime')['TotalMinutesAsleep']\n",
    "    y= new_sleep[new_sleep['Id'] == 5553957443].set_index('datetime')['TotalMinutesAsleep']\n",
    "    print(x[i], y[i], x[i] == int(y[i]))\n"
   ]
  },
  {
   "cell_type": "markdown",
   "id": "90769c83-a47f-4b32-9c35-5c68fa840fcc",
   "metadata": {},
   "source": [
    "#### Matching via Nearest Neighbor (Euclidean distance).\n",
    "\n",
    "Statistical matching se refiere a una serie de técnicas para identificar (o estratificar) en dos grupos de poblaciones las observaciones más similares con el fin de evaluar el efecto de un tratamiento y asi evitar _cofounding_.\n",
    "\n",
    "Varios métodos han sido propuestos, uno de los más populares ha sido Propensity Score Matching. Sin embargo, recientemente este método ha recibido serias criticas. Ver [Wikipedia](https://en.wikipedia.org/wiki/Matching_(statistics)).\n",
    "\n",
    "En este caso, usaremos un algoritmo que encuentra el vecino más cercano en distancia euclidea utilizando np.linalg.norm."
   ]
  },
  {
   "cell_type": "code",
   "execution_count": 336,
   "id": "ec0f25fa-4853-4503-a962-8c94eb792542",
   "metadata": {},
   "outputs": [],
   "source": [
    "ids_faltantes = list(set(calories.Id.unique())-set(new_sleep.Id.unique()))\n",
    "\n",
    "calories_presentes = calories[~calories['Id'].isin(ids_faltantes)] \n",
    "calories_faltantes = calories[calories['Id'].isin(ids_faltantes)]"
   ]
  },
  {
   "cell_type": "code",
   "execution_count": 338,
   "id": "de428e2c-2782-4e0b-ab2e-dfd1fdf6dc62",
   "metadata": {},
   "outputs": [],
   "source": [
    "\n",
    "ids_fal = []\n",
    "near = []\n",
    "for id_fal in calories_faltantes.Id.unique():\n",
    "    norms = list()\n",
    "    index = list()\n",
    "    for id_pre in calories_presentes.Id.unique():\n",
    "        serie_a = calories_presentes.set_index(['Id','datetime'])['Calories'].sort_index().loc[id_pre]\n",
    "        serie_b = calories_faltantes.set_index(['Id','datetime'])['Calories'].sort_index().loc[id_fal]\n",
    "        # Calcula la distancia euclidea.\n",
    "        norms.append((np.linalg.norm(serie_a-serie_b)))\n",
    "        index.append(id_pre)\n",
    "    vals = pd.Series(norms, index = index)\n",
    "    near.append(vals.idxmin())\n",
    "    ids_fal.append(id_fal)\n",
    "    "
   ]
  },
  {
   "cell_type": "markdown",
   "id": "6c088b9e-b9a7-49c1-b859-78ba78f1962c",
   "metadata": {},
   "source": [
    "Vemos que en particular hay un id que está muy cercano a la mayoría: 1927972279"
   ]
  },
  {
   "cell_type": "code",
   "execution_count": 339,
   "id": "e413facb-739c-4923-a311-2fe23e8cd77d",
   "metadata": {},
   "outputs": [
    {
     "data": {
      "text/html": [
       "<div>\n",
       "<style scoped>\n",
       "    .dataframe tbody tr th:only-of-type {\n",
       "        vertical-align: middle;\n",
       "    }\n",
       "\n",
       "    .dataframe tbody tr th {\n",
       "        vertical-align: top;\n",
       "    }\n",
       "\n",
       "    .dataframe thead th {\n",
       "        text-align: right;\n",
       "    }\n",
       "</style>\n",
       "<table border=\"1\" class=\"dataframe\">\n",
       "  <thead>\n",
       "    <tr style=\"text-align: right;\">\n",
       "      <th></th>\n",
       "      <th>id_fal</th>\n",
       "      <th>near_id</th>\n",
       "    </tr>\n",
       "  </thead>\n",
       "  <tbody>\n",
       "    <tr>\n",
       "      <th>0</th>\n",
       "      <td>1624580081</td>\n",
       "      <td>1844505072</td>\n",
       "    </tr>\n",
       "    <tr>\n",
       "      <th>1</th>\n",
       "      <td>2022484408</td>\n",
       "      <td>1927972279</td>\n",
       "    </tr>\n",
       "    <tr>\n",
       "      <th>2</th>\n",
       "      <td>2873212765</td>\n",
       "      <td>1927972279</td>\n",
       "    </tr>\n",
       "    <tr>\n",
       "      <th>3</th>\n",
       "      <td>8877689391</td>\n",
       "      <td>1927972279</td>\n",
       "    </tr>\n",
       "  </tbody>\n",
       "</table>\n",
       "</div>"
      ],
      "text/plain": [
       "       id_fal     near_id\n",
       "0  1624580081  1844505072\n",
       "1  2022484408  1927972279\n",
       "2  2873212765  1927972279\n",
       "3  8877689391  1927972279"
      ]
     },
     "execution_count": 339,
     "metadata": {},
     "output_type": "execute_result"
    }
   ],
   "source": [
    "df_nearest = pd.DataFrame({'id_fal':ids_fal, 'near_id': near})\n",
    "df_nearest"
   ]
  },
  {
   "cell_type": "markdown",
   "id": "0f5cb70c-1bf5-4082-af73-0df65d526a03",
   "metadata": {},
   "source": [
    "Encontramos que al considerar la distancia euclidea las series de timepo tienen formas muy diferentes,a pesar de minimizar la distancia punto a punto. "
   ]
  },
  {
   "cell_type": "code",
   "execution_count": 366,
   "id": "b1575d5b-0d61-4bc4-9a12-26f654399d84",
   "metadata": {},
   "outputs": [
    {
     "data": {
      "text/plain": [
       "array([<AxesSubplot:xlabel='datetime'>, <AxesSubplot:xlabel='datetime'>,\n",
       "       <AxesSubplot:xlabel='datetime'>, <AxesSubplot:xlabel='datetime'>],\n",
       "      dtype=object)"
      ]
     },
     "execution_count": 366,
     "metadata": {},
     "output_type": "execute_result"
    },
    {
     "data": {
      "image/png": "[encoded data removed]",
      "text/plain": [
       "<Figure size 1400x600 with 4 Axes>"
      ]
     },
     "metadata": {},
     "output_type": "display_data"
    }
   ],
   "source": [
    "specials = [1927972279, 2022484408, 2873212765, 8877689391]\n",
    "calories.set_index('Id').loc[specials].reset_index().pivot(index= 'datetime',\\\n",
    "                                                           columns = 'Id', \\\n",
    "                                                           values = 'Calories')\\\n",
    ".plot(subplots= True, figsize = (14,6))"
   ]
  },
  {
   "cell_type": "code",
   "execution_count": 379,
   "id": "79100222-7849-40af-be8b-55b930a2a9f2",
   "metadata": {},
   "outputs": [
    {
     "data": {
      "text/plain": [
       "array([<AxesSubplot:xlabel='datetime'>, <AxesSubplot:xlabel='datetime'>],\n",
       "      dtype=object)"
      ]
     },
     "execution_count": 379,
     "metadata": {},
     "output_type": "execute_result"
    },
    {
     "data": {
      "image/png": "[encoded data removed]",
      "text/plain": [
       "<Figure size 1200x300 with 2 Axes>"
      ]
     },
     "metadata": {},
     "output_type": "display_data"
    }
   ],
   "source": [
    "specials = [1624580081 , 1844505072]\n",
    "calories.set_index('Id').loc[specials].reset_index().pivot(index= 'datetime',\\\n",
    "                                                           columns = 'Id', \\\n",
    "                                                           values = 'Calories')\\\n",
    ".plot(subplots= True, figsize = (12,3))"
   ]
  },
  {
   "cell_type": "markdown",
   "id": "bcdcc3c7-d101-404e-a394-03d0d4580229",
   "metadata": {},
   "source": [
    "#### Matching via Correlation\n",
    "\n",
    "Otra alternativa sería usar la correlación. Como se expone [aquí](https://tech.gorilla.co/how-can-we-quantify-similarity-between-time-series-ed1d0b633ca0)."
   ]
  },
  {
   "cell_type": "code",
   "execution_count": 374,
   "id": "8d11f652-b200-4560-b0dc-06b15651cd71",
   "metadata": {},
   "outputs": [],
   "source": [
    "ids_fal = []\n",
    "near = []\n",
    "for id_fal in calories_faltantes.Id.unique():\n",
    "    norms = list()\n",
    "    index = list()\n",
    "    for id_pre in calories_presentes.Id.unique():\n",
    "        serie_a = calories_presentes.set_index(['Id','datetime'])['Calories'].sort_index().loc[id_pre]\n",
    "        serie_b = calories_faltantes.set_index(['Id','datetime'])['Calories'].sort_index().loc[id_fal]\n",
    "        # Calcula la correlación de Pearson.\n",
    "        norms.append(serie_a.corr(serie_b))\n",
    "        index.append(id_pre)\n",
    "    vals = pd.Series(norms, index = index)\n",
    "    near.append(vals.idxmax())\n",
    "    ids_fal.append(id_fal)\n",
    "    "
   ]
  },
  {
   "cell_type": "code",
   "execution_count": 375,
   "id": "785a87ef-d577-4ee5-9d7d-e345fd403d32",
   "metadata": {},
   "outputs": [
    {
     "data": {
      "text/html": [
       "<div>\n",
       "<style scoped>\n",
       "    .dataframe tbody tr th:only-of-type {\n",
       "        vertical-align: middle;\n",
       "    }\n",
       "\n",
       "    .dataframe tbody tr th {\n",
       "        vertical-align: top;\n",
       "    }\n",
       "\n",
       "    .dataframe thead th {\n",
       "        text-align: right;\n",
       "    }\n",
       "</style>\n",
       "<table border=\"1\" class=\"dataframe\">\n",
       "  <thead>\n",
       "    <tr style=\"text-align: right;\">\n",
       "      <th></th>\n",
       "      <th>id_fal</th>\n",
       "      <th>near_id</th>\n",
       "    </tr>\n",
       "  </thead>\n",
       "  <tbody>\n",
       "    <tr>\n",
       "      <th>0</th>\n",
       "      <td>1624580081</td>\n",
       "      <td>6962181067</td>\n",
       "    </tr>\n",
       "    <tr>\n",
       "      <th>1</th>\n",
       "      <td>2022484408</td>\n",
       "      <td>6962181067</td>\n",
       "    </tr>\n",
       "    <tr>\n",
       "      <th>2</th>\n",
       "      <td>2873212765</td>\n",
       "      <td>6962181067</td>\n",
       "    </tr>\n",
       "    <tr>\n",
       "      <th>3</th>\n",
       "      <td>8877689391</td>\n",
       "      <td>7086361926</td>\n",
       "    </tr>\n",
       "  </tbody>\n",
       "</table>\n",
       "</div>"
      ],
      "text/plain": [
       "       id_fal     near_id\n",
       "0  1624580081  6962181067\n",
       "1  2022484408  6962181067\n",
       "2  2873212765  6962181067\n",
       "3  8877689391  7086361926"
      ]
     },
     "execution_count": 375,
     "metadata": {},
     "output_type": "execute_result"
    }
   ],
   "source": [
    "df_nearest_corr = pd.DataFrame({'id_fal':ids_fal, 'near_id': near})\n",
    "df_nearest_corr"
   ]
  },
  {
   "cell_type": "code",
   "execution_count": 376,
   "id": "f6ec5f02-cde4-4c16-b995-632ce37dfdd9",
   "metadata": {},
   "outputs": [
    {
     "data": {
      "text/plain": [
       "array([<AxesSubplot:xlabel='datetime'>, <AxesSubplot:xlabel='datetime'>,\n",
       "       <AxesSubplot:xlabel='datetime'>, <AxesSubplot:xlabel='datetime'>],\n",
       "      dtype=object)"
      ]
     },
     "execution_count": 376,
     "metadata": {},
     "output_type": "execute_result"
    },
    {
     "data": {
      "image/png": "[encoded data removed]",
      "text/plain": [
       "<Figure size 1400x600 with 4 Axes>"
      ]
     },
     "metadata": {},
     "output_type": "display_data"
    }
   ],
   "source": [
    "specials = [6962181067, 1624580081, 2022484408, 2873212765]\n",
    "calories.set_index('Id').loc[specials].reset_index().pivot(index= 'datetime',\\\n",
    "                                                           columns = 'Id', \\\n",
    "                                                           values = 'Calories')\\\n",
    ".plot(subplots= True, figsize = (14,6))"
   ]
  },
  {
   "cell_type": "markdown",
   "id": "8f68020c-d0c9-4a40-8694-1a6e8e7c3f72",
   "metadata": {},
   "source": [
    "En este caso preferimos utilizar la correlación ya que las series de tiempo son más similares."
   ]
  },
  {
   "cell_type": "code",
   "execution_count": 378,
   "id": "fbc8bd21-21e7-43ee-a0ba-ffd0a4dd730d",
   "metadata": {},
   "outputs": [
    {
     "data": {
      "text/plain": [
       "array([<AxesSubplot:xlabel='datetime'>, <AxesSubplot:xlabel='datetime'>],\n",
       "      dtype=object)"
      ]
     },
     "execution_count": 378,
     "metadata": {},
     "output_type": "execute_result"
    },
    {
     "data": {
      "image/png": "[encoded data removed]",
      "text/plain": [
       "<Figure size 1200x300 with 2 Axes>"
      ]
     },
     "metadata": {},
     "output_type": "display_data"
    }
   ],
   "source": [
    "specials = [8877689391 , 7086361926]\n",
    "calories.set_index('Id').loc[specials].reset_index().pivot(index= 'datetime',\\\n",
    "                                                           columns = 'Id', \\\n",
    "                                                           values = 'Calories')\\\n",
    ".plot(subplots= True, figsize = (12,3))"
   ]
  },
  {
   "cell_type": "markdown",
   "id": "3b86ba33-319e-46eb-9bb8-70a3bc938850",
   "metadata": {},
   "source": [
    "Ahora añadimos los id's faltantes a los datos de sueño. Siguiendo la siguiente regla:\n",
    "Los nuevos datos se basan en los del id más cercano de acuerdo al matching que hicimos previamente y agrgamos algo de ruido (añadimos un número aleatorio \\* (30 mins) con distribución normal i.e.  una cantidad de minutos en el intervalo -1:30, +1:30 aproximadamente)."
   ]
  },
  {
   "cell_type": "code",
   "execution_count": 420,
   "id": "f6792c99-321b-4953-937f-815095f485d0",
   "metadata": {},
   "outputs": [],
   "source": [
    "df_faltantes_sleep = []\n",
    "for id_fal in ids_faltantes:\n",
    "    id_val = df_nearest_corr.set_index('id_fal').loc[id_fal]\n",
    "    \n",
    "    df = pd.DataFrame()\n",
    "    df['datetime'] = new_sleep[new_sleep.Id == id_val[0]].datetime\n",
    "    df['Id'] = id_fal\n",
    "    df['TotalMinutesAsleep'] = new_sleep[new_sleep.Id == id_val[0]].TotalMinutesAsleep\n",
    "    df['TotalTimeInBed'] = new_sleep[new_sleep.Id == id_val[0]].TotalMinutesAsleep\n",
    "    \n",
    "    noise1 = np.array(60*np.random.standard_normal(size = 30), dtype = int)\n",
    "    noise2 = np.array(60*np.random.standard_normal(size = 30), dtype = int)\n",
    "    \n",
    "    df['TotalMinutesAsleep'] = df['TotalMinutesAsleep'] + noise1\n",
    "    df['TotalTimeInBed'] = df['TotalTimeInBed'] + noise2\n",
    "    df = df[['Id', 'datetime', 'TotalMinutesAsleep', 'TotalTimeInBed']]\n",
    "    df_faltantes_sleep.append(df)\n",
    "    "
   ]
  },
  {
   "cell_type": "code",
   "execution_count": 423,
   "id": "9a405cce-3fe8-4ade-8d6f-23136442234f",
   "metadata": {},
   "outputs": [
    {
     "data": {
      "text/html": [
       "<div>\n",
       "<style scoped>\n",
       "    .dataframe tbody tr th:only-of-type {\n",
       "        vertical-align: middle;\n",
       "    }\n",
       "\n",
       "    .dataframe tbody tr th {\n",
       "        vertical-align: top;\n",
       "    }\n",
       "\n",
       "    .dataframe thead th {\n",
       "        text-align: right;\n",
       "    }\n",
       "</style>\n",
       "<table border=\"1\" class=\"dataframe\">\n",
       "  <thead>\n",
       "    <tr style=\"text-align: right;\">\n",
       "      <th></th>\n",
       "      <th>Id</th>\n",
       "      <th>datetime</th>\n",
       "      <th>TotalMinutesAsleep</th>\n",
       "      <th>TotalTimeInBed</th>\n",
       "    </tr>\n",
       "  </thead>\n",
       "  <tbody>\n",
       "    <tr>\n",
       "      <th>0</th>\n",
       "      <td>1844505072</td>\n",
       "      <td>2016-04-12</td>\n",
       "      <td>604.0</td>\n",
       "      <td>961.0</td>\n",
       "    </tr>\n",
       "    <tr>\n",
       "      <th>1</th>\n",
       "      <td>1844505072</td>\n",
       "      <td>2016-04-13</td>\n",
       "      <td>702.0</td>\n",
       "      <td>961.0</td>\n",
       "    </tr>\n",
       "    <tr>\n",
       "      <th>2</th>\n",
       "      <td>1844505072</td>\n",
       "      <td>2016-04-14</td>\n",
       "      <td>649.0</td>\n",
       "      <td>961.0</td>\n",
       "    </tr>\n",
       "    <tr>\n",
       "      <th>3</th>\n",
       "      <td>1844505072</td>\n",
       "      <td>2016-04-15</td>\n",
       "      <td>644.0</td>\n",
       "      <td>961.0</td>\n",
       "    </tr>\n",
       "    <tr>\n",
       "      <th>4</th>\n",
       "      <td>1844505072</td>\n",
       "      <td>2016-04-16</td>\n",
       "      <td>681.0</td>\n",
       "      <td>961.0</td>\n",
       "    </tr>\n",
       "    <tr>\n",
       "      <th>...</th>\n",
       "      <td>...</td>\n",
       "      <td>...</td>\n",
       "      <td>...</td>\n",
       "      <td>...</td>\n",
       "    </tr>\n",
       "    <tr>\n",
       "      <th>565</th>\n",
       "      <td>8877689391</td>\n",
       "      <td>2016-05-07</td>\n",
       "      <td>456.0</td>\n",
       "      <td>426.0</td>\n",
       "    </tr>\n",
       "    <tr>\n",
       "      <th>566</th>\n",
       "      <td>8877689391</td>\n",
       "      <td>2016-05-08</td>\n",
       "      <td>499.0</td>\n",
       "      <td>490.0</td>\n",
       "    </tr>\n",
       "    <tr>\n",
       "      <th>567</th>\n",
       "      <td>8877689391</td>\n",
       "      <td>2016-05-09</td>\n",
       "      <td>375.0</td>\n",
       "      <td>463.0</td>\n",
       "    </tr>\n",
       "    <tr>\n",
       "      <th>568</th>\n",
       "      <td>8877689391</td>\n",
       "      <td>2016-05-10</td>\n",
       "      <td>290.0</td>\n",
       "      <td>409.0</td>\n",
       "    </tr>\n",
       "    <tr>\n",
       "      <th>569</th>\n",
       "      <td>8877689391</td>\n",
       "      <td>2016-05-11</td>\n",
       "      <td>360.0</td>\n",
       "      <td>390.0</td>\n",
       "    </tr>\n",
       "  </tbody>\n",
       "</table>\n",
       "<p>570 rows × 4 columns</p>\n",
       "</div>"
      ],
      "text/plain": [
       "             Id   datetime  TotalMinutesAsleep  TotalTimeInBed\n",
       "0    1844505072 2016-04-12               604.0           961.0\n",
       "1    1844505072 2016-04-13               702.0           961.0\n",
       "2    1844505072 2016-04-14               649.0           961.0\n",
       "3    1844505072 2016-04-15               644.0           961.0\n",
       "4    1844505072 2016-04-16               681.0           961.0\n",
       "..          ...        ...                 ...             ...\n",
       "565  8877689391 2016-05-07               456.0           426.0\n",
       "566  8877689391 2016-05-08               499.0           490.0\n",
       "567  8877689391 2016-05-09               375.0           463.0\n",
       "568  8877689391 2016-05-10               290.0           409.0\n",
       "569  8877689391 2016-05-11               360.0           390.0\n",
       "\n",
       "[570 rows x 4 columns]"
      ]
     },
     "execution_count": 423,
     "metadata": {},
     "output_type": "execute_result"
    }
   ],
   "source": [
    "new_sleep = pd.concat([new_sleep, df_faltantes_sleep[0],\\\n",
    "                      df_faltantes_sleep[1],\\\n",
    "                      df_faltantes_sleep[2],\\\n",
    "                      df_faltantes_sleep[3]], ignore_index = True)\n",
    "new_sleep"
   ]
  },
  {
   "cell_type": "code",
   "execution_count": 425,
   "id": "806e5b99-81fd-4f09-8f9f-05f74c2b4912",
   "metadata": {},
   "outputs": [
    {
     "data": {
      "text/plain": [
       "set()"
      ]
     },
     "execution_count": 425,
     "metadata": {},
     "output_type": "execute_result"
    }
   ],
   "source": [
    "set(calories.Id.unique()) - set(new_sleep.Id.unique())"
   ]
  },
  {
   "cell_type": "markdown",
   "id": "cf9cd216-9e6d-4062-a1bb-78a62ad65e92",
   "metadata": {},
   "source": [
    "### Ritmo cardiaco\n",
    "\n",
    "En este caso de acuero a las líneas de código de abajo heart solo cuenta con 8 id's de los 19 actuales con los que estamos trabajando. Además los tiempos con registros de ritmo cardiaco se encuntran segundo a segundo en algunos casos. En otros hay saltos de 5 segundos o saltos irregulares. Podemos estandarizar estos datos usando el método _resample_ de pandas."
   ]
  },
  {
   "cell_type": "code",
   "execution_count": 427,
   "id": "2e910296-b51f-4dc8-a4ad-b7844d28abd2",
   "metadata": {},
   "outputs": [
    {
     "data": {
      "text/plain": [
       "{2347167796, 5577150313, 6117666160, 6775888955, 7007744171, 8792009665}"
      ]
     },
     "execution_count": 427,
     "metadata": {},
     "output_type": "execute_result"
    }
   ],
   "source": [
    "set(heart.Id.unique()) - set(calories.Id.unique())"
   ]
  },
  {
   "cell_type": "code",
   "execution_count": 461,
   "id": "ff0c0bb7-bfe6-49d3-97f5-e7c345fd9215",
   "metadata": {},
   "outputs": [
    {
     "data": {
      "text/html": [
       "<div>\n",
       "<style scoped>\n",
       "    .dataframe tbody tr th:only-of-type {\n",
       "        vertical-align: middle;\n",
       "    }\n",
       "\n",
       "    .dataframe tbody tr th {\n",
       "        vertical-align: top;\n",
       "    }\n",
       "\n",
       "    .dataframe thead th {\n",
       "        text-align: right;\n",
       "    }\n",
       "</style>\n",
       "<table border=\"1\" class=\"dataframe\">\n",
       "  <thead>\n",
       "    <tr style=\"text-align: right;\">\n",
       "      <th></th>\n",
       "      <th>Id</th>\n",
       "      <th>Value</th>\n",
       "      <th>datetime</th>\n",
       "    </tr>\n",
       "  </thead>\n",
       "  <tbody>\n",
       "    <tr>\n",
       "      <th>0</th>\n",
       "      <td>2022484408</td>\n",
       "      <td>97</td>\n",
       "      <td>2016-04-12 07:21:00</td>\n",
       "    </tr>\n",
       "    <tr>\n",
       "      <th>1</th>\n",
       "      <td>2022484408</td>\n",
       "      <td>102</td>\n",
       "      <td>2016-04-12 07:21:05</td>\n",
       "    </tr>\n",
       "  </tbody>\n",
       "</table>\n",
       "</div>"
      ],
      "text/plain": [
       "           Id  Value            datetime\n",
       "0  2022484408     97 2016-04-12 07:21:00\n",
       "1  2022484408    102 2016-04-12 07:21:05"
      ]
     },
     "execution_count": 461,
     "metadata": {},
     "output_type": "execute_result"
    }
   ],
   "source": [
    "heart = all_df['heartrate_seconds_merged'].copy()\n",
    "# Filter to our desidered id's\n",
    "heart = heart[heart.Id.isin(calories.Id.unique())]\n",
    "heart['datetime'] = pd.to_datetime(heart.pop('Time'), format =  '%m/%d/%Y %I:%M:%S %p')\n",
    "heart.head(2)"
   ]
  },
  {
   "cell_type": "code",
   "execution_count": 480,
   "id": "928ef5f2-3090-489d-a64f-c02ec75ccfec",
   "metadata": {},
   "outputs": [
    {
     "name": "stdout",
     "output_type": "stream",
     "text": [
      "8\n"
     ]
    },
    {
     "data": {
      "text/html": [
       "<div>\n",
       "<style scoped>\n",
       "    .dataframe tbody tr th:only-of-type {\n",
       "        vertical-align: middle;\n",
       "    }\n",
       "\n",
       "    .dataframe tbody tr th {\n",
       "        vertical-align: top;\n",
       "    }\n",
       "\n",
       "    .dataframe thead th {\n",
       "        text-align: right;\n",
       "    }\n",
       "</style>\n",
       "<table border=\"1\" class=\"dataframe\">\n",
       "  <thead>\n",
       "    <tr style=\"text-align: right;\">\n",
       "      <th>Id</th>\n",
       "      <th>2022484408</th>\n",
       "      <th>2026352035</th>\n",
       "      <th>4020332650</th>\n",
       "      <th>4388161847</th>\n",
       "      <th>4558609924</th>\n",
       "      <th>5553957443</th>\n",
       "      <th>6962181067</th>\n",
       "      <th>8877689391</th>\n",
       "    </tr>\n",
       "    <tr>\n",
       "      <th>datetime</th>\n",
       "      <th></th>\n",
       "      <th></th>\n",
       "      <th></th>\n",
       "      <th></th>\n",
       "      <th></th>\n",
       "      <th></th>\n",
       "      <th></th>\n",
       "      <th></th>\n",
       "    </tr>\n",
       "  </thead>\n",
       "  <tbody>\n",
       "    <tr>\n",
       "      <th>2016-04-12 00:00:00</th>\n",
       "      <td>NaN</td>\n",
       "      <td>NaN</td>\n",
       "      <td>63.0</td>\n",
       "      <td>NaN</td>\n",
       "      <td>NaN</td>\n",
       "      <td>61.0</td>\n",
       "      <td>NaN</td>\n",
       "      <td>NaN</td>\n",
       "    </tr>\n",
       "    <tr>\n",
       "      <th>2016-04-12 00:00:01</th>\n",
       "      <td>NaN</td>\n",
       "      <td>NaN</td>\n",
       "      <td>64.0</td>\n",
       "      <td>NaN</td>\n",
       "      <td>NaN</td>\n",
       "      <td>NaN</td>\n",
       "      <td>NaN</td>\n",
       "      <td>NaN</td>\n",
       "    </tr>\n",
       "  </tbody>\n",
       "</table>\n",
       "</div>"
      ],
      "text/plain": [
       "Id                   2022484408  2026352035  4020332650  4388161847  \\\n",
       "datetime                                                              \n",
       "2016-04-12 00:00:00         NaN         NaN        63.0         NaN   \n",
       "2016-04-12 00:00:01         NaN         NaN        64.0         NaN   \n",
       "\n",
       "Id                   4558609924  5553957443  6962181067  8877689391  \n",
       "datetime                                                             \n",
       "2016-04-12 00:00:00         NaN        61.0         NaN         NaN  \n",
       "2016-04-12 00:00:01         NaN         NaN         NaN         NaN  "
      ]
     },
     "execution_count": 480,
     "metadata": {},
     "output_type": "execute_result"
    }
   ],
   "source": [
    "print(len(heart.Id.unique())) # Solo hay 8 id's, de manera que faltan 11!!\n",
    "heart.pivot(columns= 'Id', values = 'Value', index = 'datetime').head(2) #Fijese que el tiempo va de un seg a otro."
   ]
  },
  {
   "cell_type": "markdown",
   "id": "f885c091-ec51-408e-8b2d-20e2c3d57b44",
   "metadata": {},
   "source": [
    "Aquí agregamos los datos por minuto, note que empiezan en la fecha y minuto adecuados. Tomamos el promedio por minuto como método de agregación. Los NaN corresponden a valores que no tienen ni un sólo registro en el rango de tiempo comprendido entre la fila actual y la fila siguiente (abierto). Luego restringimos hasta la fecha y hora de interés de nuestro estudio (2016-05-11 23:59:00)."
   ]
  },
  {
   "cell_type": "code",
   "execution_count": 478,
   "id": "df3d6ee8-8fce-4efe-b75b-c43a4c8c0d9e",
   "metadata": {},
   "outputs": [
    {
     "name": "stdout",
     "output_type": "stream",
     "text": [
      "Id                   2022484408  2026352035  4020332650\n",
      "datetime                                               \n",
      "2016-04-12 00:00:00         NaN         NaN   63.500000\n",
      "2016-04-12 00:01:00         NaN         NaN   65.913043\n",
      "Id                   2022484408  2026352035  4020332650\n",
      "datetime                                               \n",
      "2016-05-11 23:58:00         NaN         NaN         NaN\n",
      "2016-05-11 23:59:00         NaN         NaN         NaN\n"
     ]
    }
   ],
   "source": [
    "tabla_heart = heart.pivot(columns= 'Id', values = 'Value', index = 'datetime').resample('1T').mean()\n",
    "tabla_heart = tabla_heart.loc[:'2016-05-11 23:59:01',:]\n",
    "print(tabla_heart.head(2).iloc[:,:3]) # Fijese que el día y la hora son los correctos\n",
    "print(tabla_heart.tail(2).iloc[:,:3]) # Fijese que restringimos a la fecha y hora límite de nuestro estudio"
   ]
  },
  {
   "cell_type": "markdown",
   "id": "b2047faf-2f43-4e5e-93c5-820288535d0b",
   "metadata": {},
   "source": [
    "De nuevo, lo ideal sería preguntar a un stakeholder o al dueño de los conjuntos de datos la razón por la que hayan tantos datos faltantes... ¿Por qué es así? ¿Hay un fallo en la importación de datos? ¿Hay otro dataset con datos completos, debemos cambiar de dataset? ¿Acaso las personas normalmente se quitan el dispositivo y por eso hacen falta registros de ritmo cardiaco?\n",
    "\n",
    "Sin embargo cómo el propósito de este Notebook es demostratr habilidades de análisis de datos vamos a seguir una metodología similar a la del caso del sueño. De manera que ahora disponemos de un problema. La primera parte del problema sería averigüar la manera adecuada de interpolar los datos de rimto cardíaco. Primero que todo, dichos datos están lejos de seguir una distribucuón normal. Más bien el ritmo cardíaco tiene un comportamiento sinusoidal a lo largo del día. Los datos de calorías, intensidades y MET deberían ayudarnos a estimar los valores faltantes."
   ]
  },
  {
   "cell_type": "markdown",
   "id": "55b50986-e51a-4f59-a913-959814bbdf4f",
   "metadata": {},
   "source": [
    "**Fast check**\n",
    "Podemos ver que intensidades y MET están intimamente relacionado con ritmo cardiaco. Al menos para el caso del id 4020332650"
   ]
  },
  {
   "cell_type": "code",
   "execution_count": 550,
   "id": "32eaa66c-9808-4963-b7e3-9f8488ff98c7",
   "metadata": {},
   "outputs": [
    {
     "data": {
      "text/plain": [
       "<AxesSubplot:title={'center':'Steps'}, xlabel='datetime'>"
      ]
     },
     "execution_count": 550,
     "metadata": {},
     "output_type": "execute_result"
    },
    {
     "data": {
      "image/png": "[encoded data removed]",
      "text/plain": [
       "<Figure size 1200x800 with 4 Axes>"
      ]
     },
     "metadata": {},
     "output_type": "display_data"
    }
   ],
   "source": [
    "fig,ax = plt.subplots(4,1, figsize= (12,8))\n",
    "tabla_heart[4020332650].plot(ax = ax[0])\n",
    "(intensities[intensities.Id == 4020332650].set_index('datetime')['Intensity']*50).plot(color = 'orange', alpha = 0.5, ax = ax[0], title = 'Inten')\n",
    "\n",
    "\n",
    "tabla_heart[4020332650].plot(ax = ax[1])\n",
    "(calories[calories.Id == 4020332650].set_index('datetime')['Calories']*10).plot(color = 'red', alpha = 0.5, ax = ax[1], title = 'Cals')\n",
    "\n",
    "tabla_heart[4020332650].plot(ax = ax[2])\n",
    "(MET[MET.Id == 4020332650].set_index('datetime')['METs']).plot(color = 'green', alpha = 0.5, ax = ax[2], title='MET')\n",
    "\n",
    "tabla_heart[4020332650].plot(ax = ax[3])\n",
    "(steps[steps.Id == 4020332650].set_index('datetime')['Steps']).plot(color = 'brown', alpha = 0.5, ax = ax[3], title = 'Steps')\n",
    "\n"
   ]
  },
  {
   "cell_type": "markdown",
   "id": "50cba15c-ab4c-49af-af92-7f5371f194ef",
   "metadata": {},
   "source": [
    "¿Cuál es el comportamiento típico de MET cuando no hay registros de ritmo cardíaco? "
   ]
  },
  {
   "cell_type": "code",
   "execution_count": 591,
   "id": "3240217c-265a-4cb6-bcc6-69e9b800e6a3",
   "metadata": {},
   "outputs": [
    {
     "name": "stdout",
     "output_type": "stream",
     "text": [
      "13    29\n",
      "12    27\n",
      "36     9\n",
      "15     6\n",
      "30     4\n",
      "38     4\n",
      "28     4\n",
      "32     3\n",
      "14     2\n",
      "26     2\n",
      "42     2\n",
      "34     2\n",
      "40     2\n",
      "11     2\n",
      "24     1\n",
      "60     1\n",
      "Name: METs, dtype: int64\n",
      "10    98\n",
      "12     1\n",
      "11     1\n",
      "Name: METs, dtype: int64\n"
     ]
    }
   ],
   "source": [
    "print(MET[MET.Id == 4020332650].set_index('datetime').METs.iloc[500:600].value_counts()) # Sabemos que en los primeros registros hay actividad\n",
    "print(MET[MET.Id == 4020332650].set_index('datetime').METs.iloc[5000:5100].value_counts()) # Cuál es el valor típioc de los peridoso debaja actividad?"
   ]
  },
  {
   "cell_type": "markdown",
   "id": "b8197c70-da4f-4633-b14f-d0fd53d13bcd",
   "metadata": {},
   "source": [
    "#### Correlación de ritmo cardíaco con Calories, intentsities, MET and Steps.\n",
    "\n",
    "A continuación podemos observar un comportamiento idéntico para Calories y METs. Es posible que el cálculo de Mets dependa de calorías de forma directa. En un solo caso calorías tiene una correlación ligeramente mayor +0.01."
   ]
  },
  {
   "cell_type": "code",
   "execution_count": 551,
   "id": "acb6faae-9032-45fc-83f4-5c323e5ef3dc",
   "metadata": {},
   "outputs": [],
   "source": [
    "def corr_with_cal(series):\n",
    "    id_actual = series.name\n",
    "    cals = calories[calories.Id == id_actual].set_index('datetime')['Calories']\n",
    "    METS = MET[MET.Id == id_actual].set_index('datetime')['METs']\n",
    "    inten = intensities[intensities.Id == id_actual].set_index('datetime')['Intensity']\n",
    "    ste = steps[steps.Id == id_actual].set_index('datetime')['Steps']\n",
    "    \n",
    "    return pd.Series([cals.corr(series), inten.corr(series), METS.corr(series), ste.corr(series)], \\\n",
    "                     index = ['Cals','Intensities','MET','Steps'])\n"
   ]
  },
  {
   "cell_type": "code",
   "execution_count": 552,
   "id": "daf0cc02-f7bd-4ccc-9a7c-db76f556ed2f",
   "metadata": {},
   "outputs": [
    {
     "data": {
      "image/png": "[encoded data removed]",
      "text/plain": [
       "<Figure size 640x480 with 2 Axes>"
      ]
     },
     "metadata": {},
     "output_type": "display_data"
    }
   ],
   "source": [
    "ax = sns.heatmap(tabla_heart.agg(corr_with_cal).T, vmax = .9, vmin= 0.3 , annot = True,\\\n",
    "                linecolor = 'yellow', cmap='Oranges')"
   ]
  },
  {
   "cell_type": "markdown",
   "id": "1d6270b7-191b-4be9-b09a-88cbf389dd3f",
   "metadata": {},
   "source": [
    "Hasta ahora hemos notados dos cosas:\n",
    "\n",
    "1) Faltan muchos registros de ritmo cardíaco. Una hipótesis es que hay una relación fuerte entre la ausencia de registros de ritmo cardíaco y los registros bajos de Calorías y MET. Puede que esto se deba a que los usuarios remueven su dispositivo y por eso no hay marcación de sus signos vitales. Esto es importante porque **podría ser un indicador del comportamiento de los usuarios**. Dicho lo anterior no vale la pena hacer una interpolación porque establecería un claro sesgo. Reemplazamos los valores faltantes por cero para indicar ausencia de registros (o marcación según nuestra hipótesis). No creemos que se deba a un fallo en la medición del dispositvo, pero es otra posibilidad.\n",
    "2) De todas las variables las de mayor correlación con ritmo cardíaco fueron MET y Calorías. Usaremos esto para crear datos ficticios de ritmo cardíaco con dos reglas: a) registros bajos de MET los relacionaremos con marcaciones de cero u ausencia de registros en el ritmo cardíaco, que es un patrón razonable."
   ]
  },
  {
   "cell_type": "code",
   "execution_count": 638,
   "id": "f5159582-59c9-448f-9ade-66a3b5c043e2",
   "metadata": {},
   "outputs": [
    {
     "data": {
      "text/html": [
       "<div>\n",
       "<style scoped>\n",
       "    .dataframe tbody tr th:only-of-type {\n",
       "        vertical-align: middle;\n",
       "    }\n",
       "\n",
       "    .dataframe tbody tr th {\n",
       "        vertical-align: top;\n",
       "    }\n",
       "\n",
       "    .dataframe thead th {\n",
       "        text-align: right;\n",
       "    }\n",
       "</style>\n",
       "<table border=\"1\" class=\"dataframe\">\n",
       "  <thead>\n",
       "    <tr style=\"text-align: right;\">\n",
       "      <th></th>\n",
       "      <th>datetime</th>\n",
       "      <th>Id</th>\n",
       "      <th>Values</th>\n",
       "    </tr>\n",
       "  </thead>\n",
       "  <tbody>\n",
       "    <tr>\n",
       "      <th>0</th>\n",
       "      <td>2016-04-12</td>\n",
       "      <td>2022484408</td>\n",
       "      <td>0.0</td>\n",
       "    </tr>\n",
       "    <tr>\n",
       "      <th>1</th>\n",
       "      <td>2016-04-12</td>\n",
       "      <td>2026352035</td>\n",
       "      <td>0.0</td>\n",
       "    </tr>\n",
       "  </tbody>\n",
       "</table>\n",
       "</div>"
      ],
      "text/plain": [
       "    datetime          Id  Values\n",
       "0 2016-04-12  2022484408     0.0\n",
       "1 2016-04-12  2026352035     0.0"
      ]
     },
     "execution_count": 638,
     "metadata": {},
     "output_type": "execute_result"
    }
   ],
   "source": [
    "new_heart = tabla_heart.fillna(0).stack().reset_index().rename(columns = {0:'Values'}).round({'Values':0})\n",
    "new_heart.head(2)"
   ]
  },
  {
   "cell_type": "markdown",
   "id": "4aebb150-cd8e-49de-b0be-1df3acd762e7",
   "metadata": {},
   "source": [
    "#### Datos ficticios de ritmo cardiaco siguiendo patrón de MET\n",
    "\n",
    "Tenemos una alta correlación entre MET y ritmo cardíaco. Ahora bien, como regla general usaremos que a 10 MET cero de ritmo cardíaco. Los valores máximos alcanzados son 202 ppm y 146 MET.\n",
    "\n",
    "**Nota:** Varios estudios parecen tener una escala diferente para MET. Sin embargo el problema de estimar MET a partir del ritmo cardíaco ha sido ampliamente investigado: [ELSEVIER](https://www.ncbi.nlm.nih.gov/pmc/articles/PMC6003065/).\n",
    "La fórmula que utilizan es $$MET = 0.05 × HRnet + 2$$ \n",
    "\n",
    "Dado que la relación establecida en ese estudio es lineal, aquí usaremos un enfoque muy similar. \n",
    "Nuestras condiciones iniciales exigen que (Ver caso típico abajo): \n",
    "\n",
    "$$MET = 12 = LinearFactor \\hspace{2 mm} x \\hspace{2 mm} HRnet+ C = LF \\hspace{2 mm} x \\hspace{2 mm} 80 + \\hspace{2 mm} C$$\n",
    "\n",
    "Y las condiciones finales, serían:\n",
    "\n",
    "$$MET = 146 = LF \\hspace{2 mm} x \\hspace{2 mm} HRnet+ C  =  LF \\hspace{2 mm} x \\hspace{2 mm} 202 + C $$\n",
    "\n",
    "Resolviendo:\n",
    " $$ LF \\approx 1.09$$\n",
    " $$ C \\approx -75$$"
   ]
  },
  {
   "cell_type": "code",
   "execution_count": 681,
   "id": "8714f1a0-f3f0-4eac-b8e6-54adcf56a2d5",
   "metadata": {},
   "outputs": [
    {
     "name": "stdout",
     "output_type": "stream",
     "text": [
      "Maximos\n",
      "202.0 ----- HRnet Max\n",
      "146   ----- MET max\n",
      "Casos iniciales\n",
      "12 83.0\n",
      "13 82.0\n",
      "13 84.0\n",
      "12 83.0\n",
      "13 87.0\n"
     ]
    }
   ],
   "source": [
    "print('Maximos')\n",
    "print(new_heart.Values.max(), '----- HRnet Max') # Max heart rate record.\n",
    "print(MET[~MET.Id.isin(id_faltantes_heart)].METs.max(), '  ----- MET max') # Max MET recorded ids in heart\n",
    "print('Casos iniciales')\n",
    "for i in range(525,530):\n",
    "    print(MET[MET.Id == 4020332650].set_index('datetime').METs.iloc[i], new_heart[new_heart.Id == 4020332650].set_index('datetime').Values.iloc[i])"
   ]
  },
  {
   "cell_type": "markdown",
   "id": "49ced74e-7bea-4bf7-8a89-3d44599c2746",
   "metadata": {},
   "source": [
    "#### Algortimo de interpolación \n",
    "Para completar los id's faltantes usaremos el siguiente algoritmo:\n",
    "Si MET < 12 entonces HRnet = 0.\n",
    "De lo contrario usamos la formula de arriba:\n",
    "$$HR = \\dfrac{MET + 75}{1.09}$$"
   ]
  },
  {
   "cell_type": "code",
   "execution_count": 688,
   "id": "5e74bc1d-282a-4628-bb39-15acb42c25e4",
   "metadata": {},
   "outputs": [],
   "source": [
    "series_fal_heart = []\n",
    "for iden in id_faltantes_heart:\n",
    "    Mets = MET[MET.Id == iden].set_index('datetime').METs\n",
    "    # We meet our condition with np.where faster than an apply. A group by option will be faster but i cant come across a solution rn.\n",
    "    ser = pd.Series(np.where( Mets >= 12, (Mets+75)/(1.09), 0 ), index= rango_completo)\n",
    "    ser.name = iden\n",
    "    series_fal_heart.append(ser)"
   ]
  },
  {
   "cell_type": "code",
   "execution_count": 696,
   "id": "8647d334-3242-4b20-af3b-48d89599b245",
   "metadata": {},
   "outputs": [],
   "source": [
    "df_fal_heart_to_add = pd.concat(series_fal_heart, axis = 1).round(0).stack().reset_index().rename(columns = {'level_0': 'datetime',\\\n",
    "                                                                                      'level_1': 'Id',\\\n",
    "                                                                                       0:'Values'})\n",
    "new_heart = pd.concat([new_heart, df_fal_heart_to_add])\n"
   ]
  },
  {
   "cell_type": "code",
   "execution_count": 698,
   "id": "0cca8d01-1563-4ed6-87fc-bd54838601f0",
   "metadata": {},
   "outputs": [
    {
     "data": {
      "text/html": [
       "<div>\n",
       "<style scoped>\n",
       "    .dataframe tbody tr th:only-of-type {\n",
       "        vertical-align: middle;\n",
       "    }\n",
       "\n",
       "    .dataframe tbody tr th {\n",
       "        vertical-align: top;\n",
       "    }\n",
       "\n",
       "    .dataframe thead th {\n",
       "        text-align: right;\n",
       "    }\n",
       "</style>\n",
       "<table border=\"1\" class=\"dataframe\">\n",
       "  <thead>\n",
       "    <tr style=\"text-align: right;\">\n",
       "      <th></th>\n",
       "      <th>datetime</th>\n",
       "      <th>Id</th>\n",
       "      <th>Values</th>\n",
       "    </tr>\n",
       "  </thead>\n",
       "  <tbody>\n",
       "    <tr>\n",
       "      <th>475198</th>\n",
       "      <td>2016-05-11 23:59:00</td>\n",
       "      <td>2320127002</td>\n",
       "      <td>0.0</td>\n",
       "    </tr>\n",
       "    <tr>\n",
       "      <th>475199</th>\n",
       "      <td>2016-05-11 23:59:00</td>\n",
       "      <td>2873212765</td>\n",
       "      <td>0.0</td>\n",
       "    </tr>\n",
       "  </tbody>\n",
       "</table>\n",
       "</div>"
      ],
      "text/plain": [
       "                  datetime          Id  Values\n",
       "475198 2016-05-11 23:59:00  2320127002     0.0\n",
       "475199 2016-05-11 23:59:00  2873212765     0.0"
      ]
     },
     "execution_count": 698,
     "metadata": {},
     "output_type": "execute_result"
    }
   ],
   "source": [
    "new_heart.tail(2)"
   ]
  },
  {
   "cell_type": "code",
   "execution_count": 700,
   "id": "fd287d11-d908-4604-a04d-2aa7d8717681",
   "metadata": {},
   "outputs": [
    {
     "data": {
      "text/plain": [
       "set()"
      ]
     },
     "execution_count": 700,
     "metadata": {},
     "output_type": "execute_result"
    }
   ],
   "source": [
    "set(calories.Id.unique()) - set(new_heart.Id.unique())"
   ]
  },
  {
   "cell_type": "markdown",
   "id": "4a8a7b50-b960-4dee-a04f-b21d8758fece",
   "metadata": {},
   "source": [
    "### Peso"
   ]
  },
  {
   "cell_type": "code",
   "execution_count": 32,
   "id": "7a460f8a-6bc1-444d-a3fe-5b3fec8dfc69",
   "metadata": {},
   "outputs": [
    {
     "data": {
      "text/html": [
       "<div>\n",
       "<style scoped>\n",
       "    .dataframe tbody tr th:only-of-type {\n",
       "        vertical-align: middle;\n",
       "    }\n",
       "\n",
       "    .dataframe tbody tr th {\n",
       "        vertical-align: top;\n",
       "    }\n",
       "\n",
       "    .dataframe thead th {\n",
       "        text-align: right;\n",
       "    }\n",
       "</style>\n",
       "<table border=\"1\" class=\"dataframe\">\n",
       "  <thead>\n",
       "    <tr style=\"text-align: right;\">\n",
       "      <th></th>\n",
       "      <th>Id</th>\n",
       "      <th>Date</th>\n",
       "      <th>WeightKg</th>\n",
       "      <th>WeightPounds</th>\n",
       "      <th>Fat</th>\n",
       "      <th>BMI</th>\n",
       "      <th>IsManualReport</th>\n",
       "      <th>LogId</th>\n",
       "    </tr>\n",
       "  </thead>\n",
       "  <tbody>\n",
       "    <tr>\n",
       "      <th>0</th>\n",
       "      <td>1503960366</td>\n",
       "      <td>5/2/2016 11:59:59 PM</td>\n",
       "      <td>52.599998</td>\n",
       "      <td>115.963147</td>\n",
       "      <td>22.0</td>\n",
       "      <td>22.650000</td>\n",
       "      <td>True</td>\n",
       "      <td>1462233599000</td>\n",
       "    </tr>\n",
       "    <tr>\n",
       "      <th>1</th>\n",
       "      <td>1503960366</td>\n",
       "      <td>5/3/2016 11:59:59 PM</td>\n",
       "      <td>52.599998</td>\n",
       "      <td>115.963147</td>\n",
       "      <td>NaN</td>\n",
       "      <td>22.650000</td>\n",
       "      <td>True</td>\n",
       "      <td>1462319999000</td>\n",
       "    </tr>\n",
       "    <tr>\n",
       "      <th>2</th>\n",
       "      <td>1927972279</td>\n",
       "      <td>4/13/2016 1:08:52 AM</td>\n",
       "      <td>133.500000</td>\n",
       "      <td>294.317120</td>\n",
       "      <td>NaN</td>\n",
       "      <td>47.540001</td>\n",
       "      <td>False</td>\n",
       "      <td>1460509732000</td>\n",
       "    </tr>\n",
       "    <tr>\n",
       "      <th>3</th>\n",
       "      <td>2873212765</td>\n",
       "      <td>4/21/2016 11:59:59 PM</td>\n",
       "      <td>56.700001</td>\n",
       "      <td>125.002104</td>\n",
       "      <td>NaN</td>\n",
       "      <td>21.450001</td>\n",
       "      <td>True</td>\n",
       "      <td>1461283199000</td>\n",
       "    </tr>\n",
       "    <tr>\n",
       "      <th>4</th>\n",
       "      <td>2873212765</td>\n",
       "      <td>5/12/2016 11:59:59 PM</td>\n",
       "      <td>57.299999</td>\n",
       "      <td>126.324875</td>\n",
       "      <td>NaN</td>\n",
       "      <td>21.690001</td>\n",
       "      <td>True</td>\n",
       "      <td>1463097599000</td>\n",
       "    </tr>\n",
       "    <tr>\n",
       "      <th>...</th>\n",
       "      <td>...</td>\n",
       "      <td>...</td>\n",
       "      <td>...</td>\n",
       "      <td>...</td>\n",
       "      <td>...</td>\n",
       "      <td>...</td>\n",
       "      <td>...</td>\n",
       "      <td>...</td>\n",
       "    </tr>\n",
       "    <tr>\n",
       "      <th>62</th>\n",
       "      <td>8877689391</td>\n",
       "      <td>5/6/2016 6:43:35 AM</td>\n",
       "      <td>85.000000</td>\n",
       "      <td>187.392923</td>\n",
       "      <td>NaN</td>\n",
       "      <td>25.440001</td>\n",
       "      <td>False</td>\n",
       "      <td>1462517015000</td>\n",
       "    </tr>\n",
       "    <tr>\n",
       "      <th>63</th>\n",
       "      <td>8877689391</td>\n",
       "      <td>5/8/2016 7:35:53 AM</td>\n",
       "      <td>85.400002</td>\n",
       "      <td>188.274775</td>\n",
       "      <td>NaN</td>\n",
       "      <td>25.559999</td>\n",
       "      <td>False</td>\n",
       "      <td>1462692953000</td>\n",
       "    </tr>\n",
       "    <tr>\n",
       "      <th>64</th>\n",
       "      <td>8877689391</td>\n",
       "      <td>5/9/2016 6:39:44 AM</td>\n",
       "      <td>85.500000</td>\n",
       "      <td>188.495234</td>\n",
       "      <td>NaN</td>\n",
       "      <td>25.610001</td>\n",
       "      <td>False</td>\n",
       "      <td>1462775984000</td>\n",
       "    </tr>\n",
       "    <tr>\n",
       "      <th>65</th>\n",
       "      <td>8877689391</td>\n",
       "      <td>5/11/2016 6:51:47 AM</td>\n",
       "      <td>85.400002</td>\n",
       "      <td>188.274775</td>\n",
       "      <td>NaN</td>\n",
       "      <td>25.559999</td>\n",
       "      <td>False</td>\n",
       "      <td>1462949507000</td>\n",
       "    </tr>\n",
       "    <tr>\n",
       "      <th>66</th>\n",
       "      <td>8877689391</td>\n",
       "      <td>5/12/2016 6:42:53 AM</td>\n",
       "      <td>84.000000</td>\n",
       "      <td>185.188300</td>\n",
       "      <td>NaN</td>\n",
       "      <td>25.139999</td>\n",
       "      <td>False</td>\n",
       "      <td>1463035373000</td>\n",
       "    </tr>\n",
       "  </tbody>\n",
       "</table>\n",
       "<p>67 rows × 8 columns</p>\n",
       "</div>"
      ],
      "text/plain": [
       "            Id                   Date    WeightKg  WeightPounds   Fat  \\\n",
       "0   1503960366   5/2/2016 11:59:59 PM   52.599998    115.963147  22.0   \n",
       "1   1503960366   5/3/2016 11:59:59 PM   52.599998    115.963147   NaN   \n",
       "2   1927972279   4/13/2016 1:08:52 AM  133.500000    294.317120   NaN   \n",
       "3   2873212765  4/21/2016 11:59:59 PM   56.700001    125.002104   NaN   \n",
       "4   2873212765  5/12/2016 11:59:59 PM   57.299999    126.324875   NaN   \n",
       "..         ...                    ...         ...           ...   ...   \n",
       "62  8877689391    5/6/2016 6:43:35 AM   85.000000    187.392923   NaN   \n",
       "63  8877689391    5/8/2016 7:35:53 AM   85.400002    188.274775   NaN   \n",
       "64  8877689391    5/9/2016 6:39:44 AM   85.500000    188.495234   NaN   \n",
       "65  8877689391   5/11/2016 6:51:47 AM   85.400002    188.274775   NaN   \n",
       "66  8877689391   5/12/2016 6:42:53 AM   84.000000    185.188300   NaN   \n",
       "\n",
       "          BMI  IsManualReport          LogId  \n",
       "0   22.650000            True  1462233599000  \n",
       "1   22.650000            True  1462319999000  \n",
       "2   47.540001           False  1460509732000  \n",
       "3   21.450001            True  1461283199000  \n",
       "4   21.690001            True  1463097599000  \n",
       "..        ...             ...            ...  \n",
       "62  25.440001           False  1462517015000  \n",
       "63  25.559999           False  1462692953000  \n",
       "64  25.610001           False  1462775984000  \n",
       "65  25.559999           False  1462949507000  \n",
       "66  25.139999           False  1463035373000  \n",
       "\n",
       "[67 rows x 8 columns]"
      ]
     },
     "execution_count": 32,
     "metadata": {},
     "output_type": "execute_result"
    }
   ],
   "source": [
    "all_df['weightLogInfo_merged']"
   ]
  },
  {
   "cell_type": "code",
   "execution_count": null,
   "id": "b3b2c4d3-5b7a-49a9-b66e-5607a5df69ed",
   "metadata": {},
   "outputs": [],
   "source": []
  },
  {
   "cell_type": "markdown",
   "id": "5c97bf05-4078-4aae-9bd1-7c9f62197cb1",
   "metadata": {},
   "source": [
    "### Transparencia de los datos\n",
    "**Nota**: Un punto importante aquí es que los datos fueron suministrados por consentimiento propio de los usuarios respondiendo a una encuesta de Amazon Mechanical Turk. No tenemos claridad sobre la veracidad de los datos de peso. Aparentemente fueron suministrados de manera subjetiva y no por calculos hechos por el dispotivo FitBit. De manera que esta variable no es confiable."
   ]
  },
  {
   "cell_type": "code",
   "execution_count": null,
   "id": "be051370-e69c-40a1-90c9-778a8700dd19",
   "metadata": {},
   "outputs": [],
   "source": []
  },
  {
   "cell_type": "code",
   "execution_count": null,
   "id": "b2e9904d-013b-4c05-a34b-0c5061cc82a0",
   "metadata": {},
   "outputs": [],
   "source": []
  },
  {
   "cell_type": "code",
   "execution_count": null,
   "id": "4676bb0d-93f5-4326-9a73-b086602a69a3",
   "metadata": {},
   "outputs": [],
   "source": []
  },
  {
   "cell_type": "markdown",
   "id": "95afebd9-289b-43f3-b56d-d300355d61b6",
   "metadata": {},
   "source": [
    "## Data Analysis \n",
    "### **¿Cuál es el estado de salud de los usuarios de dispostivos _FitBit_?**\n",
    "\n",
    "Intentaremos dar respuesta a este tema teniendo en cuenta los siguientes aspectos: \n",
    "* ¿Qué tanto hacen ejercicio? ¿Cuál es su duración típica ejercitandose? ¿Prefieren la tarde o la mañana para ejercitarse?\n",
    "* ¿Su ritmo cardiaco se eleva por tiempos prolongados? ¿O tienen más bien picos cortos?\n",
    "* ¿Cómo se relaciona su consumo de calorías con el sueño? ¿Duermen bien?\n",
    "\n",
    "\n"
   ]
  },
  {
   "cell_type": "code",
   "execution_count": null,
   "id": "bb344bc7-8e4c-48c7-afb2-9fae914d0ccc",
   "metadata": {},
   "outputs": [],
   "source": []
  },
  {
   "cell_type": "code",
   "execution_count": null,
   "id": "275ff6fe-55b7-4825-a5a6-1c3082c5dd2e",
   "metadata": {},
   "outputs": [],
   "source": []
  },
  {
   "cell_type": "code",
   "execution_count": null,
   "id": "c8d2ca24-44a0-4c14-a06b-85c99a81f523",
   "metadata": {},
   "outputs": [],
   "source": []
  },
  {
   "cell_type": "code",
   "execution_count": null,
   "id": "ea99e136-6e87-4adc-bed5-66f77d0a6492",
   "metadata": {},
   "outputs": [],
   "source": []
  },
  {
   "cell_type": "code",
   "execution_count": null,
   "id": "27ba134c-18ed-43d0-935d-86b2a772bacc",
   "metadata": {},
   "outputs": [],
   "source": []
  },
  {
   "cell_type": "markdown",
   "id": "61643055-6cff-4f3f-9ade-4dcfa52a9965",
   "metadata": {
    "tags": []
   },
   "source": [
    "## Apéndice\n",
    "### A.1 carga de datasets y exploración de tablas"
   ]
  },
  {
   "cell_type": "code",
   "execution_count": 2,
   "id": "f501521b-93f4-4e7c-a74f-fde90d6a5e46",
   "metadata": {},
   "outputs": [],
   "source": [
    "import os\n",
    "import glob\n",
    "\n",
    "path = r'C:\\Users\\diego\\Desktop\\Books_and_courses\\Google_Data_Analysis_Prof_Certificate'                     # use your path\n",
    "all_files = glob.glob(os.path.join(path, \"*.csv\"))# advisable to use os.path.join as this makes concatenation OS independent\n",
    "# Leemos todos los dataframes\n",
    "li = []\n",
    "for f in all_files:\n",
    "    df = pd.read_csv(f)\n",
    "    li.append(df)\n",
    "    \n",
    "# Obtenemos los nombres de todos los archivos csv en este directorio\n",
    "all_files = os.listdir('C:\\\\Users\\\\diego\\\\Desktop\\\\Books_and_courses\\\\Google_Data_Analysis_Prof_Certificate')    \n",
    "csv_names = list(filter(lambda f: f.endswith('.csv'), all_files))\n",
    "csv_names = [csv_names[i].replace('.csv', '') for i in range(len(csv_names))]\n",
    "\n",
    "all_df = pd.Series(li, index = csv_names) # Series con todos los dataframes, indexados por sus nombres."
   ]
  },
  {
   "cell_type": "code",
   "execution_count": 5,
   "id": "f4cc8190-4184-4439-ab7c-9d195660a01e",
   "metadata": {},
   "outputs": [
    {
     "name": "stdout",
     "output_type": "stream",
     "text": [
      "<class 'pandas.core.frame.DataFrame'>\n",
      "RangeIndex: 940 entries, 0 to 939\n",
      "Data columns (total 15 columns):\n",
      " #   Column                    Non-Null Count  Dtype  \n",
      "---  ------                    --------------  -----  \n",
      " 0   Id                        940 non-null    int64  \n",
      " 1   ActivityDate              940 non-null    object \n",
      " 2   TotalSteps                940 non-null    int64  \n",
      " 3   TotalDistance             940 non-null    float64\n",
      " 4   TrackerDistance           940 non-null    float64\n",
      " 5   LoggedActivitiesDistance  940 non-null    float64\n",
      " 6   VeryActiveDistance        940 non-null    float64\n",
      " 7   ModeratelyActiveDistance  940 non-null    float64\n",
      " 8   LightActiveDistance       940 non-null    float64\n",
      " 9   SedentaryActiveDistance   940 non-null    float64\n",
      " 10  VeryActiveMinutes         940 non-null    int64  \n",
      " 11  FairlyActiveMinutes       940 non-null    int64  \n",
      " 12  LightlyActiveMinutes      940 non-null    int64  \n",
      " 13  SedentaryMinutes          940 non-null    int64  \n",
      " 14  Calories                  940 non-null    int64  \n",
      "dtypes: float64(7), int64(7), object(1)\n",
      "memory usage: 110.3+ KB\n",
      "None \n",
      " ------*-----\n",
      "\n",
      "<class 'pandas.core.frame.DataFrame'>\n",
      "RangeIndex: 940 entries, 0 to 939\n",
      "Data columns (total 3 columns):\n",
      " #   Column       Non-Null Count  Dtype \n",
      "---  ------       --------------  ----- \n",
      " 0   Id           940 non-null    int64 \n",
      " 1   ActivityDay  940 non-null    object\n",
      " 2   Calories     940 non-null    int64 \n",
      "dtypes: int64(2), object(1)\n",
      "memory usage: 22.2+ KB\n",
      "None \n",
      " ------*-----\n",
      "\n"
     ]
    }
   ],
   "source": [
    "# Elimine la selección [:2] si desea ver la información de todos los dataframes.\n",
    "for df in all_df[:2]:\n",
    "    print( df.info() , '\\n ------*-----\\n')"
   ]
  },
  {
   "cell_type": "markdown",
   "id": "6663302a-00d8-4053-a926-e1907739cb54",
   "metadata": {},
   "source": [
    "**Notas**\n",
    "Se puede ver por la información anterior que los datos están separados como tablas relacionales. Algunas tablas sirven de apoyo a otras con información detallada de tiempo en distinta granularidad: diaria, por hora y por minutos. Aparentemente, los datos en _minutosXwide_ y _minutesXnarrow_ solo se diferencian en que una tabla contiene los datos en formato Wide y la otra en formato Long. Se puede decir que hay 4 categorías en las que los datos se encuentran más o menos completos:\n",
    "\n",
    "* Intensidades\n",
    "* Calorías\n",
    "* Pasos\n",
    "* Sueño\n",
    "\n",
    "Otras carecterísticas con menor información son: Ritmo cardíaco, MET y peso. Particularmente peso tiene una considerbale cantidad de valores faltantes."
   ]
  },
  {
   "cell_type": "markdown",
   "id": "85fea354-b266-4c33-adf7-ce074d700f59",
   "metadata": {},
   "source": [
    "### A.2 Diferencias entre wide y narrow minutes data"
   ]
  },
  {
   "cell_type": "code",
   "execution_count": 6,
   "id": "1c975a96-b865-4b79-a342-af61b7e8ee20",
   "metadata": {},
   "outputs": [
    {
     "data": {
      "text/plain": [
       "1503960366     120\n",
       "1624580081    -420\n",
       "1644430081   -1440\n",
       "1844505072    -420\n",
       "1927972279    -420\n",
       "2022484408    -360\n",
       "2026352035    -420\n",
       "2320127002    -360\n",
       "2347167796   -1440\n",
       "2873212765    -660\n",
       "3372868164   -1440\n",
       "3977333714    1740\n",
       "4020332650    -360\n",
       "4057192912   -1440\n",
       "4319703577   -1440\n",
       "4388161847   -1200\n",
       "4445114986    -360\n",
       "4558609924   -1140\n",
       "4702921684    -300\n",
       "5553957443   -1440\n",
       "5577150313   -1440\n",
       "6117666160   -1440\n",
       "6290855005   -1440\n",
       "6775888955   -1440\n",
       "6962181067    -240\n",
       "7007744171   -1440\n",
       "7086361926    -780\n",
       "8053475328    -420\n",
       "8253242879   -1440\n",
       "8378563200    -360\n",
       "8583815059   -1440\n",
       "8792009665   -1440\n",
       "8877689391    -360\n",
       "Name: Id, dtype: int64"
      ]
     },
     "execution_count": 6,
     "metadata": {},
     "output_type": "execute_result"
    }
   ],
   "source": [
    "# De algunos Id's hay mas registros y de otros menos. \n",
    "differences = (60*all_df['minuteCaloriesWide_merged']['Id'].value_counts()).sort_index() \\\n",
    "                - all_df['minuteCaloriesNarrow_merged']['Id'].value_counts().sort_index() #A grandes rasgos hay más datos en Narrow\n",
    "differences"
   ]
  },
  {
   "cell_type": "code",
   "execution_count": 7,
   "id": "58186f3c-5155-405b-8844-bd1da98c6145",
   "metadata": {},
   "outputs": [
    {
     "data": {
      "text/plain": [
       "-1440    14\n",
       "-360      6\n",
       "-420      5\n",
       " 120      1\n",
       "-660      1\n",
       " 1740     1\n",
       "-1200     1\n",
       "-1140     1\n",
       "-300      1\n",
       "-240      1\n",
       "-780      1\n",
       "Name: Id, dtype: int64"
      ]
     },
     "execution_count": 7,
     "metadata": {},
     "output_type": "execute_result"
    }
   ],
   "source": [
    "differences.value_counts() #At least there is a pattern between id's"
   ]
  },
  {
   "cell_type": "code",
   "execution_count": 8,
   "id": "6e9f4f1b-f8a0-4f20-b1c8-8f3c4532cc28",
   "metadata": {},
   "outputs": [
    {
     "name": "stdout",
     "output_type": "stream",
     "text": [
      "1503960366\n",
      "WIDE min: 2016-04-13 00:00:00 MAX: 2016-05-12 22:00:00\n",
      "LONG: min: 2016-04-12 00:00:00 MAX: 2016-05-11 20:59:00 \n",
      "\n",
      "1624580081\n",
      "WIDE min: 2016-04-13 00:00:00 MAX: 2016-05-13 08:00:00\n",
      "LONG: min: 2016-04-12 00:00:00 MAX: 2016-05-12 15:59:00 \n",
      "\n",
      "1644430081\n",
      "WIDE min: 2016-04-13 00:00:00 MAX: 2016-05-11 11:00:00\n",
      "LONG: min: 2016-04-12 00:00:00 MAX: 2016-05-11 11:59:00 \n",
      "\n",
      "1844505072\n",
      "WIDE min: 2016-04-13 00:00:00 MAX: 2016-05-13 03:00:00\n",
      "LONG: min: 2016-04-12 00:00:00 MAX: 2016-05-12 10:59:00 \n",
      "\n",
      "1927972279\n",
      "WIDE min: 2016-04-13 00:00:00 MAX: 2016-05-13 08:00:00\n",
      "LONG: min: 2016-04-12 00:00:00 MAX: 2016-05-12 15:59:00 \n",
      "\n",
      "2022484408\n",
      "WIDE min: 2016-04-13 00:00:00 MAX: 2016-05-13 08:00:00\n",
      "LONG: min: 2016-04-12 00:00:00 MAX: 2016-05-12 14:59:00 \n",
      "\n",
      "2026352035\n",
      "WIDE min: 2016-04-13 00:00:00 MAX: 2016-05-13 08:00:00\n",
      "LONG: min: 2016-04-12 00:00:00 MAX: 2016-05-12 15:59:00 \n",
      "\n",
      "2320127002\n",
      "WIDE min: 2016-04-13 00:00:00 MAX: 2016-05-13 08:00:00\n",
      "LONG: min: 2016-04-12 00:00:00 MAX: 2016-05-12 14:59:00 \n",
      "\n",
      "2347167796\n",
      "WIDE min: 2016-04-13 00:00:00 MAX: 2016-04-29 05:00:00\n",
      "LONG: min: 2016-04-12 00:00:00 MAX: 2016-04-29 05:59:00 \n",
      "\n",
      "2873212765\n",
      "WIDE min: 2016-04-13 00:00:00 MAX: 2016-05-13 04:00:00\n",
      "LONG: min: 2016-04-12 00:00:00 MAX: 2016-05-12 15:59:00 \n",
      "\n",
      "3372868164\n",
      "WIDE min: 2016-04-13 00:00:00 MAX: 2016-05-01 15:00:00\n",
      "LONG: min: 2016-04-12 00:00:00 MAX: 2016-05-01 15:59:00 \n",
      "\n",
      "3977333714\n",
      "WIDE min: 2016-04-13 00:00:00 MAX: 2016-05-13 04:00:00\n",
      "LONG: min: 2016-04-12 00:00:00 MAX: 2016-05-10 23:59:00 \n",
      "\n",
      "4020332650\n",
      "WIDE min: 2016-04-13 00:00:00 MAX: 2016-05-13 05:00:00\n",
      "LONG: min: 2016-04-12 00:00:00 MAX: 2016-05-12 11:59:00 \n",
      "\n",
      "4057192912\n",
      "WIDE min: 2016-04-13 00:00:00 MAX: 2016-04-15 15:00:00\n",
      "LONG: min: 2016-04-12 00:00:00 MAX: 2016-04-15 15:59:00 \n",
      "\n",
      "4319703577\n",
      "WIDE min: 2016-04-13 00:00:00 MAX: 2016-05-12 03:00:00\n",
      "LONG: min: 2016-04-12 00:00:00 MAX: 2016-05-12 03:59:00 \n",
      "\n",
      "4388161847\n",
      "WIDE min: 2016-04-13 00:00:00 MAX: 2016-05-12 18:00:00\n",
      "LONG: min: 2016-04-12 00:00:00 MAX: 2016-05-12 14:59:00 \n",
      "\n",
      "4445114986\n",
      "WIDE min: 2016-04-13 00:00:00 MAX: 2016-05-13 06:00:00\n",
      "LONG: min: 2016-04-12 00:00:00 MAX: 2016-05-12 12:59:00 \n",
      "\n",
      "4558609924\n",
      "WIDE min: 2016-04-13 00:00:00 MAX: 2016-05-12 20:00:00\n",
      "LONG: min: 2016-04-12 00:00:00 MAX: 2016-05-12 15:59:00 \n",
      "\n",
      "4702921684\n",
      "WIDE min: 2016-04-13 00:00:00 MAX: 2016-05-13 05:00:00\n",
      "LONG: min: 2016-04-12 00:00:00 MAX: 2016-05-12 10:59:00 \n",
      "\n",
      "5553957443\n",
      "WIDE min: 2016-04-13 00:00:00 MAX: 2016-05-12 09:00:00\n",
      "LONG: min: 2016-04-12 00:00:00 MAX: 2016-05-12 09:59:00 \n",
      "\n",
      "5577150313\n",
      "WIDE min: 2016-04-13 00:00:00 MAX: 2016-05-11 11:00:00\n",
      "LONG: min: 2016-04-12 00:00:00 MAX: 2016-05-11 11:59:00 \n",
      "\n",
      "6117666160\n",
      "WIDE min: 2016-04-13 00:00:00 MAX: 2016-05-09 11:00:00\n",
      "LONG: min: 2016-04-12 00:00:00 MAX: 2016-05-09 11:59:00 \n",
      "\n",
      "6290855005\n",
      "WIDE min: 2016-04-13 00:00:00 MAX: 2016-05-09 16:00:00\n",
      "LONG: min: 2016-04-12 00:00:00 MAX: 2016-05-09 16:59:00 \n",
      "\n",
      "6775888955\n",
      "WIDE min: 2016-04-13 00:00:00 MAX: 2016-05-07 09:00:00\n",
      "LONG: min: 2016-04-12 00:00:00 MAX: 2016-05-07 09:59:00 \n",
      "\n",
      "6962181067\n",
      "WIDE min: 2016-04-13 00:00:00 MAX: 2016-05-13 07:00:00\n",
      "LONG: min: 2016-04-12 00:00:00 MAX: 2016-05-12 11:59:00 \n",
      "\n",
      "7007744171\n",
      "WIDE min: 2016-04-13 00:00:00 MAX: 2016-05-07 00:00:00\n",
      "LONG: min: 2016-04-12 00:00:00 MAX: 2016-05-07 00:59:00 \n",
      "\n",
      "7086361926\n",
      "WIDE min: 2016-04-13 00:00:00 MAX: 2016-05-12 23:00:00\n",
      "LONG: min: 2016-04-12 00:00:00 MAX: 2016-05-12 12:59:00 \n",
      "\n",
      "8053475328\n",
      "WIDE min: 2016-04-13 00:00:00 MAX: 2016-05-13 07:00:00\n",
      "LONG: min: 2016-04-12 00:00:00 MAX: 2016-05-12 14:59:00 \n",
      "\n",
      "8253242879\n",
      "WIDE min: 2016-04-13 00:00:00 MAX: 2016-04-29 22:00:00\n",
      "LONG: min: 2016-04-12 00:00:00 MAX: 2016-04-29 22:59:00 \n",
      "\n",
      "8378563200\n",
      "WIDE min: 2016-04-13 00:00:00 MAX: 2016-05-13 06:00:00\n",
      "LONG: min: 2016-04-12 00:00:00 MAX: 2016-05-12 12:59:00 \n",
      "\n",
      "8583815059\n",
      "WIDE min: 2016-04-13 00:00:00 MAX: 2016-05-11 21:00:00\n",
      "LONG: min: 2016-04-12 00:00:00 MAX: 2016-05-11 21:59:00 \n",
      "\n",
      "8792009665\n",
      "WIDE min: 2016-04-13 00:00:00 MAX: 2016-05-09 23:00:00\n",
      "LONG: min: 2016-04-12 00:00:00 MAX: 2016-05-09 23:59:00 \n",
      "\n",
      "8877689391\n",
      "WIDE min: 2016-04-13 00:00:00 MAX: 2016-05-13 07:00:00\n",
      "LONG: min: 2016-04-12 00:00:00 MAX: 2016-05-12 13:59:00 \n",
      "\n"
     ]
    }
   ],
   "source": [
    "# Por exploración sabemos que ambos conjuntos tienen los mismos id's. \n",
    "# La diferencia de registros se debe a la diferencia de rangos de fechas en cada dataset.\n",
    "\n",
    "mins_wide = []\n",
    "max_wide = []\n",
    "\n",
    "mins_long = []\n",
    "max_long = []\n",
    "for id_number in all_df['minuteCaloriesNarrow_merged']['Id'].unique():\n",
    "    bool_long = all_df['minuteCaloriesNarrow_merged']['Id'] == id_number \n",
    "    bool_wide =  all_df['minuteCaloriesWide_merged']['Id'] == id_number     \n",
    "\n",
    "    long_data = all_df['minuteCaloriesNarrow_merged'].loc[bool_long, 'ActivityMinute']\n",
    "    wide_data =  all_df['minuteCaloriesWide_merged'].loc[bool_wide, 'ActivityHour']\n",
    "\n",
    "    long_data['dates'] =  pd.to_datetime(long_data, format = '%m/%d/%Y %I:%M:%S %p' )\n",
    "    wide_data['dates'] =  pd.to_datetime(wide_data, format = '%m/%d/%Y %I:%M:%S %p' )\n",
    "    \n",
    "    print(id_number)\n",
    "    print('WIDE', 'min:', min(wide_data['dates']) ,'MAX:', max(wide_data['dates']) )\n",
    "    print('LONG:','min:' , min(long_data['dates']), 'MAX:' , max(long_data['dates']), '\\n')\n",
    "    mins_wide.append(min(wide_data['dates']))\n",
    "    mins_long.append(min(long_data['dates']))\n",
    "    max_wide.append(max(wide_data['dates']))\n",
    "    max_long.append(max(long_data['dates']))\n",
    "    \n",
    "\n"
   ]
  },
  {
   "cell_type": "markdown",
   "id": "38cfb7ca-ef05-4de5-8ab8-32b7c04916f4",
   "metadata": {},
   "source": [
    "Con la gráfica de abajo resulta evidente que las diferencias en cantidad de registros en Calorías para Wide y narrow minutes se deben a que los datos pertenecen a rangos diferentes. Como regla general los datos de Calorías en Narrow (i.e. Long) empiezan un día antes (2016-04-12) que los datos en Wide (2016-04-13). Sin embargo, la mayor diferencia en registros se debe a los rangos máximos. En la mayoría de los casos Wide tiene una fecha mayor que long. En otros casos coinciden. No hay un rango de fechas largo que garantize que se contendrían ambos registros. De manera que no es compatible usar tanto Wide como Long. Lo recomendable es hacer una elección"
   ]
  },
  {
   "cell_type": "code",
   "execution_count": 11,
   "id": "a83e228b-eb53-4915-b9a6-5b4eae9bda83",
   "metadata": {},
   "outputs": [
    {
     "data": {
      "text/plain": [
       "<matplotlib.legend.Legend at 0x25802d48220>"
      ]
     },
     "execution_count": 11,
     "metadata": {},
     "output_type": "execute_result"
    },
    {
     "data": {
      "image/png": "[encoded data removed]",
      "text/plain": [
       "<Figure size 1800x600 with 1 Axes>"
      ]
     },
     "metadata": {},
     "output_type": "display_data"
    }
   ],
   "source": [
    "fig = plt.figure(figsize = (18,6))\n",
    "\n",
    "pd.Series(mins_wide).hist(color = 'red', alpha = 1, label = 'Min Wide')\n",
    "pd.Series(mins_long).hist(color = 'blue', alpha = 0.5 , label = 'Min Long')\n",
    "pd.Series(max_wide).hist(color = 'green', alpha = 0.7, label = 'max wide')\n",
    "pd.Series(max_long).hist(color = 'yellow', alpha = 0.3, label = 'max long')\n",
    "\n",
    "plt.legend()"
   ]
  },
  {
   "cell_type": "markdown",
   "id": "3eec3cd5-70ef-47ca-8cf9-f14e8cc6e0cf",
   "metadata": {},
   "source": [
    "### A.3 Elección de minutes de acuerdo a consistencia con Hourly, Daily\n",
    "\n",
    "Sabemos que los datos tienen una estructura jerárquica. Están agrupados por minutos -> Horas -> Días.\n",
    "\n",
    "* ¿Los datos por horas representan los promedios cada 60 minutos? r:// No, son la suma de minutes Narrow\n",
    "* ¿Acaso los datos por horas coinciden con los datos en long o en narrow format? r:// Narrow\n",
    "* ¿Y los datos diarios sí coinciden con alguna agregación de los datos por horas? r://"
   ]
  },
  {
   "cell_type": "markdown",
   "id": "5438da30-51fd-4922-ae61-9cbd49cd58e0",
   "metadata": {},
   "source": [
    "Como paso previo convertimos todos los datos a formato datetime."
   ]
  },
  {
   "cell_type": "code",
   "execution_count": 12,
   "id": "b711790b-2da0-4e31-9365-6efd602b7a24",
   "metadata": {},
   "outputs": [
    {
     "data": {
      "text/html": [
       "<div>\n",
       "<style scoped>\n",
       "    .dataframe tbody tr th:only-of-type {\n",
       "        vertical-align: middle;\n",
       "    }\n",
       "\n",
       "    .dataframe tbody tr th {\n",
       "        vertical-align: top;\n",
       "    }\n",
       "\n",
       "    .dataframe thead th {\n",
       "        text-align: right;\n",
       "    }\n",
       "</style>\n",
       "<table border=\"1\" class=\"dataframe\">\n",
       "  <thead>\n",
       "    <tr style=\"text-align: right;\">\n",
       "      <th></th>\n",
       "      <th>Id</th>\n",
       "      <th>Calories</th>\n",
       "      <th>datetime</th>\n",
       "    </tr>\n",
       "  </thead>\n",
       "  <tbody>\n",
       "    <tr>\n",
       "      <th>0</th>\n",
       "      <td>1503960366</td>\n",
       "      <td>81</td>\n",
       "      <td>2016-04-12 00:00:00</td>\n",
       "    </tr>\n",
       "    <tr>\n",
       "      <th>1</th>\n",
       "      <td>1503960366</td>\n",
       "      <td>61</td>\n",
       "      <td>2016-04-12 01:00:00</td>\n",
       "    </tr>\n",
       "    <tr>\n",
       "      <th>2</th>\n",
       "      <td>1503960366</td>\n",
       "      <td>59</td>\n",
       "      <td>2016-04-12 02:00:00</td>\n",
       "    </tr>\n",
       "    <tr>\n",
       "      <th>3</th>\n",
       "      <td>1503960366</td>\n",
       "      <td>47</td>\n",
       "      <td>2016-04-12 03:00:00</td>\n",
       "    </tr>\n",
       "    <tr>\n",
       "      <th>4</th>\n",
       "      <td>1503960366</td>\n",
       "      <td>48</td>\n",
       "      <td>2016-04-12 04:00:00</td>\n",
       "    </tr>\n",
       "    <tr>\n",
       "      <th>...</th>\n",
       "      <td>...</td>\n",
       "      <td>...</td>\n",
       "      <td>...</td>\n",
       "    </tr>\n",
       "    <tr>\n",
       "      <th>22094</th>\n",
       "      <td>8877689391</td>\n",
       "      <td>126</td>\n",
       "      <td>2016-05-12 10:00:00</td>\n",
       "    </tr>\n",
       "    <tr>\n",
       "      <th>22095</th>\n",
       "      <td>8877689391</td>\n",
       "      <td>192</td>\n",
       "      <td>2016-05-12 11:00:00</td>\n",
       "    </tr>\n",
       "    <tr>\n",
       "      <th>22096</th>\n",
       "      <td>8877689391</td>\n",
       "      <td>321</td>\n",
       "      <td>2016-05-12 12:00:00</td>\n",
       "    </tr>\n",
       "    <tr>\n",
       "      <th>22097</th>\n",
       "      <td>8877689391</td>\n",
       "      <td>101</td>\n",
       "      <td>2016-05-12 13:00:00</td>\n",
       "    </tr>\n",
       "    <tr>\n",
       "      <th>22098</th>\n",
       "      <td>8877689391</td>\n",
       "      <td>113</td>\n",
       "      <td>2016-05-12 14:00:00</td>\n",
       "    </tr>\n",
       "  </tbody>\n",
       "</table>\n",
       "<p>22099 rows × 3 columns</p>\n",
       "</div>"
      ],
      "text/plain": [
       "               Id  Calories            datetime\n",
       "0      1503960366        81 2016-04-12 00:00:00\n",
       "1      1503960366        61 2016-04-12 01:00:00\n",
       "2      1503960366        59 2016-04-12 02:00:00\n",
       "3      1503960366        47 2016-04-12 03:00:00\n",
       "4      1503960366        48 2016-04-12 04:00:00\n",
       "...           ...       ...                 ...\n",
       "22094  8877689391       126 2016-05-12 10:00:00\n",
       "22095  8877689391       192 2016-05-12 11:00:00\n",
       "22096  8877689391       321 2016-05-12 12:00:00\n",
       "22097  8877689391       101 2016-05-12 13:00:00\n",
       "22098  8877689391       113 2016-05-12 14:00:00\n",
       "\n",
       "[22099 rows x 3 columns]"
      ]
     },
     "execution_count": 12,
     "metadata": {},
     "output_type": "execute_result"
    }
   ],
   "source": [
    "all_df['hourlyCalories_merged']['datetime'] = pd.to_datetime( all_df['hourlyCalories_merged'].pop('ActivityHour'), \\\n",
    "                                                         format = '%m/%d/%Y %I:%M:%S %p' )\n",
    "all_df['hourlyCalories_merged']"
   ]
  },
  {
   "cell_type": "markdown",
   "id": "e5b8e1be-3ea1-4466-94ec-eb246ef75435",
   "metadata": {},
   "source": [
    "Se usó **Narrow** minutes para agregar los datos. Long format es más adecuado para realizar calculos y además tiene más observaciones. Se identificó que los datos agrupados por horas representan la suma total de las calorías en minutos Narrow. "
   ]
  },
  {
   "cell_type": "code",
   "execution_count": 13,
   "id": "4f91c713-fd06-48e4-8a74-d3fd5fece539",
   "metadata": {},
   "outputs": [],
   "source": [
    "all_df['minuteCaloriesNarrow_merged']['datetime'] = pd.to_datetime(all_df['minuteCaloriesNarrow_merged'].pop('ActivityMinute'), \\\n",
    "                                                         format = '%m/%d/%Y %I:%M:%S %p' )\n"
   ]
  },
  {
   "cell_type": "code",
   "execution_count": 14,
   "id": "1206dc38-2a5c-45f7-a813-134f74731095",
   "metadata": {},
   "outputs": [
    {
     "data": {
      "text/plain": [
       "Id          Day_and_hour \n",
       "1503960366  2016-04-12 00     81.324098\n",
       "            2016-04-12 01     60.560498\n",
       "            2016-04-12 02     58.830198\n",
       "            2016-04-12 03     47.189999\n",
       "            2016-04-12 04     47.504599\n",
       "                                ...    \n",
       "8877689391  2016-05-12 09     88.134207\n",
       "            2016-05-12 10    126.079197\n",
       "            2016-05-12 11    192.270776\n",
       "            2016-05-12 12    320.774579\n",
       "            2016-05-12 13    101.469507\n",
       "Name: Calories, Length: 22093, dtype: float64"
      ]
     },
     "execution_count": 14,
     "metadata": {},
     "output_type": "execute_result"
    }
   ],
   "source": [
    "all_df['minuteCaloriesNarrow_merged']['Day_and_hour'] = all_df['minuteCaloriesNarrow_merged']['datetime'].dt.strftime('%Y-%m-%d %H')\n",
    "all_df['minuteCaloriesNarrow_merged'].groupby(['Id','Day_and_hour'])['Calories'].sum()"
   ]
  },
  {
   "cell_type": "code",
   "execution_count": 15,
   "id": "ffc1b875-beb8-439a-bf0d-0ef47d17f7a9",
   "metadata": {},
   "outputs": [],
   "source": [
    "all_df['minuteCaloriesWide_merged']['ActivityHour'] = pd.to_datetime(all_df['minuteCaloriesWide_merged']['ActivityHour'], \\\n",
    "                                                         format = '%m/%d/%Y %I:%M:%S %p' )\n",
    "values = all_df['minuteCaloriesWide_merged'].iloc[:, 2:].apply('sum', axis = 'columns')\n",
    "values.index = all_df['minuteCaloriesWide_merged'][['Id','ActivityHour']]"
   ]
  },
  {
   "cell_type": "code",
   "execution_count": 16,
   "id": "25f93504-63f6-4d17-b8e5-72422e16f793",
   "metadata": {},
   "outputs": [
    {
     "data": {
      "text/plain": [
       "(1503960366, 2016-04-13 00:00:00)     68.740098\n",
       "(1503960366, 2016-04-13 01:00:00)     48.133799\n",
       "(1503960366, 2016-04-13 02:00:00)     47.189999\n",
       "(1503960366, 2016-04-13 03:00:00)     52.695498\n",
       "(1503960366, 2016-04-13 04:00:00)     47.347299\n",
       "                                        ...    \n",
       "(8877689391, 2016-05-13 03:00:00)     73.020000\n",
       "(8877689391, 2016-05-13 04:00:00)     73.020000\n",
       "(8877689391, 2016-05-13 05:00:00)     73.020000\n",
       "(8877689391, 2016-05-13 06:00:00)     99.307200\n",
       "(8877689391, 2016-05-13 07:00:00)    164.173302\n",
       "Length: 21645, dtype: float64"
      ]
     },
     "execution_count": 16,
     "metadata": {},
     "output_type": "execute_result"
    }
   ],
   "source": [
    "values"
   ]
  },
  {
   "cell_type": "markdown",
   "id": "9ca294a8-6724-48a0-9f25-d67e9ec9044f",
   "metadata": {},
   "source": [
    "Veamos ahora los datos diarios"
   ]
  },
  {
   "cell_type": "code",
   "execution_count": 17,
   "id": "04a68b55-bb0a-4a61-b344-c448379eef37",
   "metadata": {},
   "outputs": [
    {
     "data": {
      "text/html": [
       "<div>\n",
       "<style scoped>\n",
       "    .dataframe tbody tr th:only-of-type {\n",
       "        vertical-align: middle;\n",
       "    }\n",
       "\n",
       "    .dataframe tbody tr th {\n",
       "        vertical-align: top;\n",
       "    }\n",
       "\n",
       "    .dataframe thead th {\n",
       "        text-align: right;\n",
       "    }\n",
       "</style>\n",
       "<table border=\"1\" class=\"dataframe\">\n",
       "  <thead>\n",
       "    <tr style=\"text-align: right;\">\n",
       "      <th></th>\n",
       "      <th>Id</th>\n",
       "      <th>Calories</th>\n",
       "      <th>datetime</th>\n",
       "    </tr>\n",
       "  </thead>\n",
       "  <tbody>\n",
       "    <tr>\n",
       "      <th>0</th>\n",
       "      <td>1503960366</td>\n",
       "      <td>1985</td>\n",
       "      <td>2016-04-12</td>\n",
       "    </tr>\n",
       "    <tr>\n",
       "      <th>1</th>\n",
       "      <td>1503960366</td>\n",
       "      <td>1797</td>\n",
       "      <td>2016-04-13</td>\n",
       "    </tr>\n",
       "    <tr>\n",
       "      <th>2</th>\n",
       "      <td>1503960366</td>\n",
       "      <td>1776</td>\n",
       "      <td>2016-04-14</td>\n",
       "    </tr>\n",
       "    <tr>\n",
       "      <th>3</th>\n",
       "      <td>1503960366</td>\n",
       "      <td>1745</td>\n",
       "      <td>2016-04-15</td>\n",
       "    </tr>\n",
       "    <tr>\n",
       "      <th>4</th>\n",
       "      <td>1503960366</td>\n",
       "      <td>1863</td>\n",
       "      <td>2016-04-16</td>\n",
       "    </tr>\n",
       "    <tr>\n",
       "      <th>...</th>\n",
       "      <td>...</td>\n",
       "      <td>...</td>\n",
       "      <td>...</td>\n",
       "    </tr>\n",
       "    <tr>\n",
       "      <th>935</th>\n",
       "      <td>8877689391</td>\n",
       "      <td>2847</td>\n",
       "      <td>2016-05-08</td>\n",
       "    </tr>\n",
       "    <tr>\n",
       "      <th>936</th>\n",
       "      <td>8877689391</td>\n",
       "      <td>3710</td>\n",
       "      <td>2016-05-09</td>\n",
       "    </tr>\n",
       "    <tr>\n",
       "      <th>937</th>\n",
       "      <td>8877689391</td>\n",
       "      <td>2832</td>\n",
       "      <td>2016-05-10</td>\n",
       "    </tr>\n",
       "    <tr>\n",
       "      <th>938</th>\n",
       "      <td>8877689391</td>\n",
       "      <td>3832</td>\n",
       "      <td>2016-05-11</td>\n",
       "    </tr>\n",
       "    <tr>\n",
       "      <th>939</th>\n",
       "      <td>8877689391</td>\n",
       "      <td>1849</td>\n",
       "      <td>2016-05-12</td>\n",
       "    </tr>\n",
       "  </tbody>\n",
       "</table>\n",
       "<p>940 rows × 3 columns</p>\n",
       "</div>"
      ],
      "text/plain": [
       "             Id  Calories   datetime\n",
       "0    1503960366      1985 2016-04-12\n",
       "1    1503960366      1797 2016-04-13\n",
       "2    1503960366      1776 2016-04-14\n",
       "3    1503960366      1745 2016-04-15\n",
       "4    1503960366      1863 2016-04-16\n",
       "..          ...       ...        ...\n",
       "935  8877689391      2847 2016-05-08\n",
       "936  8877689391      3710 2016-05-09\n",
       "937  8877689391      2832 2016-05-10\n",
       "938  8877689391      3832 2016-05-11\n",
       "939  8877689391      1849 2016-05-12\n",
       "\n",
       "[940 rows x 3 columns]"
      ]
     },
     "execution_count": 17,
     "metadata": {},
     "output_type": "execute_result"
    }
   ],
   "source": [
    "all_df['dailyCalories_merged']['datetime'] = pd.to_datetime(all_df['dailyCalories_merged'].pop('ActivityDay'))\n",
    "all_df['dailyCalories_merged']"
   ]
  },
  {
   "cell_type": "markdown",
   "id": "04baa85e-ac95-43ed-a644-57e79d6b42ae",
   "metadata": {},
   "source": [
    "Aunque los valores son cercanos, notamos algunas inconsistencias significativas. Posiblemente se deba a que la agregación en Hourly se hizo redondeando cifras."
   ]
  },
  {
   "cell_type": "code",
   "execution_count": 18,
   "id": "36b2c54b-8c30-4acc-aa0c-88d24ba50202",
   "metadata": {},
   "outputs": [
    {
     "data": {
      "text/plain": [
       "Id          date      \n",
       "1503960366  2016-04-12    1988\n",
       "            2016-04-13    1798\n",
       "            2016-04-14    1776\n",
       "            2016-04-15    1745\n",
       "            2016-04-16    1866\n",
       "                          ... \n",
       "8877689391  2016-05-08    2840\n",
       "            2016-05-09    3695\n",
       "            2016-05-10    2826\n",
       "            2016-05-11    3827\n",
       "            2016-05-12    1771\n",
       "Name: Calories, Length: 934, dtype: int64"
      ]
     },
     "execution_count": 18,
     "metadata": {},
     "output_type": "execute_result"
    }
   ],
   "source": [
    "all_df['hourlyCalories_merged']['date'] = all_df['hourlyCalories_merged']['datetime'].dt.date\n",
    "all_df['hourlyCalories_merged'].groupby(['Id','date'])['Calories'].sum()"
   ]
  },
  {
   "cell_type": "code",
   "execution_count": 19,
   "id": "062598a6-38aa-4663-9b47-3b4c9bcf40ee",
   "metadata": {},
   "outputs": [
    {
     "data": {
      "text/html": [
       "<div>\n",
       "<style scoped>\n",
       "    .dataframe tbody tr th:only-of-type {\n",
       "        vertical-align: middle;\n",
       "    }\n",
       "\n",
       "    .dataframe tbody tr th {\n",
       "        vertical-align: top;\n",
       "    }\n",
       "\n",
       "    .dataframe thead th {\n",
       "        text-align: right;\n",
       "    }\n",
       "</style>\n",
       "<table border=\"1\" class=\"dataframe\">\n",
       "  <thead>\n",
       "    <tr style=\"text-align: right;\">\n",
       "      <th></th>\n",
       "      <th>Id</th>\n",
       "      <th>ActivityDate</th>\n",
       "      <th>TotalSteps</th>\n",
       "      <th>TotalDistance</th>\n",
       "      <th>TrackerDistance</th>\n",
       "      <th>LoggedActivitiesDistance</th>\n",
       "      <th>VeryActiveDistance</th>\n",
       "      <th>ModeratelyActiveDistance</th>\n",
       "      <th>LightActiveDistance</th>\n",
       "      <th>SedentaryActiveDistance</th>\n",
       "      <th>VeryActiveMinutes</th>\n",
       "      <th>FairlyActiveMinutes</th>\n",
       "      <th>LightlyActiveMinutes</th>\n",
       "      <th>SedentaryMinutes</th>\n",
       "      <th>Calories</th>\n",
       "    </tr>\n",
       "  </thead>\n",
       "  <tbody>\n",
       "    <tr>\n",
       "      <th>0</th>\n",
       "      <td>1503960366</td>\n",
       "      <td>4/12/2016</td>\n",
       "      <td>13162</td>\n",
       "      <td>8.50</td>\n",
       "      <td>8.50</td>\n",
       "      <td>0.0</td>\n",
       "      <td>1.88</td>\n",
       "      <td>0.55</td>\n",
       "      <td>6.06</td>\n",
       "      <td>0.0</td>\n",
       "      <td>25</td>\n",
       "      <td>13</td>\n",
       "      <td>328</td>\n",
       "      <td>728</td>\n",
       "      <td>1985</td>\n",
       "    </tr>\n",
       "    <tr>\n",
       "      <th>1</th>\n",
       "      <td>1503960366</td>\n",
       "      <td>4/13/2016</td>\n",
       "      <td>10735</td>\n",
       "      <td>6.97</td>\n",
       "      <td>6.97</td>\n",
       "      <td>0.0</td>\n",
       "      <td>1.57</td>\n",
       "      <td>0.69</td>\n",
       "      <td>4.71</td>\n",
       "      <td>0.0</td>\n",
       "      <td>21</td>\n",
       "      <td>19</td>\n",
       "      <td>217</td>\n",
       "      <td>776</td>\n",
       "      <td>1797</td>\n",
       "    </tr>\n",
       "    <tr>\n",
       "      <th>2</th>\n",
       "      <td>1503960366</td>\n",
       "      <td>4/14/2016</td>\n",
       "      <td>10460</td>\n",
       "      <td>6.74</td>\n",
       "      <td>6.74</td>\n",
       "      <td>0.0</td>\n",
       "      <td>2.44</td>\n",
       "      <td>0.40</td>\n",
       "      <td>3.91</td>\n",
       "      <td>0.0</td>\n",
       "      <td>30</td>\n",
       "      <td>11</td>\n",
       "      <td>181</td>\n",
       "      <td>1218</td>\n",
       "      <td>1776</td>\n",
       "    </tr>\n",
       "    <tr>\n",
       "      <th>3</th>\n",
       "      <td>1503960366</td>\n",
       "      <td>4/15/2016</td>\n",
       "      <td>9762</td>\n",
       "      <td>6.28</td>\n",
       "      <td>6.28</td>\n",
       "      <td>0.0</td>\n",
       "      <td>2.14</td>\n",
       "      <td>1.26</td>\n",
       "      <td>2.83</td>\n",
       "      <td>0.0</td>\n",
       "      <td>29</td>\n",
       "      <td>34</td>\n",
       "      <td>209</td>\n",
       "      <td>726</td>\n",
       "      <td>1745</td>\n",
       "    </tr>\n",
       "    <tr>\n",
       "      <th>4</th>\n",
       "      <td>1503960366</td>\n",
       "      <td>4/16/2016</td>\n",
       "      <td>12669</td>\n",
       "      <td>8.16</td>\n",
       "      <td>8.16</td>\n",
       "      <td>0.0</td>\n",
       "      <td>2.71</td>\n",
       "      <td>0.41</td>\n",
       "      <td>5.04</td>\n",
       "      <td>0.0</td>\n",
       "      <td>36</td>\n",
       "      <td>10</td>\n",
       "      <td>221</td>\n",
       "      <td>773</td>\n",
       "      <td>1863</td>\n",
       "    </tr>\n",
       "  </tbody>\n",
       "</table>\n",
       "</div>"
      ],
      "text/plain": [
       "           Id ActivityDate  TotalSteps  TotalDistance  TrackerDistance  \\\n",
       "0  1503960366    4/12/2016       13162           8.50             8.50   \n",
       "1  1503960366    4/13/2016       10735           6.97             6.97   \n",
       "2  1503960366    4/14/2016       10460           6.74             6.74   \n",
       "3  1503960366    4/15/2016        9762           6.28             6.28   \n",
       "4  1503960366    4/16/2016       12669           8.16             8.16   \n",
       "\n",
       "   LoggedActivitiesDistance  VeryActiveDistance  ModeratelyActiveDistance  \\\n",
       "0                       0.0                1.88                      0.55   \n",
       "1                       0.0                1.57                      0.69   \n",
       "2                       0.0                2.44                      0.40   \n",
       "3                       0.0                2.14                      1.26   \n",
       "4                       0.0                2.71                      0.41   \n",
       "\n",
       "   LightActiveDistance  SedentaryActiveDistance  VeryActiveMinutes  \\\n",
       "0                 6.06                      0.0                 25   \n",
       "1                 4.71                      0.0                 21   \n",
       "2                 3.91                      0.0                 30   \n",
       "3                 2.83                      0.0                 29   \n",
       "4                 5.04                      0.0                 36   \n",
       "\n",
       "   FairlyActiveMinutes  LightlyActiveMinutes  SedentaryMinutes  Calories  \n",
       "0                   13                   328               728      1985  \n",
       "1                   19                   217               776      1797  \n",
       "2                   11                   181              1218      1776  \n",
       "3                   34                   209               726      1745  \n",
       "4                   10                   221               773      1863  "
      ]
     },
     "execution_count": 19,
     "metadata": {},
     "output_type": "execute_result"
    }
   ],
   "source": [
    "# Finalmente vemors dailyActivity que parece ser el dataset más grande\n",
    "all_df['dailyActivity_merged'].head()"
   ]
  },
  {
   "cell_type": "markdown",
   "id": "45f8dbc7-96f6-4639-a8f1-c7cfc891b872",
   "metadata": {},
   "source": [
    "**Notas**: De acuerdo a lo anterior podemos suponer que los datos se corresponden con los encontrados en Narrow minutes. \n",
    "Las demás tablas se construyeron como agregaciones de Narrow minutes. Encontramos pequeñas inconsistencias en dichas agregaciones,\n",
    "posiblemente debido a aproximaciones. En DailyActivity encontramos el merge de todos los datos."
   ]
  }
 ],
 "metadata": {
  "kernelspec": {
   "display_name": "Python 3 (ipykernel)",
   "language": "python",
   "name": "python3"
  },
  "language_info": {
   "codemirror_mode": {
    "name": "ipython",
    "version": 3
   },
   "file_extension": ".py",
   "mimetype": "text/x-python",
   "name": "python",
   "nbconvert_exporter": "python",
   "pygments_lexer": "ipython3",
   "version": "3.10.5"
  }
 },
 "nbformat": 4,
 "nbformat_minor": 5
}
