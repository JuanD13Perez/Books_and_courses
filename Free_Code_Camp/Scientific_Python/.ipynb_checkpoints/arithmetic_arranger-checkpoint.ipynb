{
 "cells": [
  {
   "cell_type": "markdown",
   "id": "57ad9bad-c5c3-474f-b496-f93eca8f768e",
   "metadata": {
    "tags": []
   },
   "source": [
    "# Free Code Camp - Arithmetic Formatter / arranger.\n",
    "## See [FCC](https://www.freecodecamp.org/learn/scientific-computing-with-python/scientific-computing-with-python-projects/arithmetic-formatter) for an explanation\n"
   ]
  },
  {
   "cell_type": "code",
   "execution_count": 136,
   "id": "d562bd1d-e2d5-46af-8001-6c6ea251238a",
   "metadata": {},
   "outputs": [],
   "source": [
    "problems = ['3801 - 2', '123 + 49']"
   ]
  },
  {
   "cell_type": "code",
   "execution_count": 139,
   "id": "9ca16f9e-db4a-4033-b263-dbee1c8be915",
   "metadata": {},
   "outputs": [],
   "source": [
    "def arithmetic_arranger(problems, show_results= False): \n",
    "    # Get the numbers and verify each possible error.\n",
    "    results = []\n",
    "    numbers_per_operation = []\n",
    "    operations = []\n",
    "    if len(problems) >= 6:\n",
    "        arranged_problems = 'Error: Too many problems.'\n",
    "    else:\n",
    "        correct_operations = []\n",
    "        for problem in problems:\n",
    "            correct_operations.append(('+' in problem or '-' in problem))\n",
    "        if False in correct_operations:\n",
    "            arranged_problems = \"\"\"Error: Operator must be '+' or '-'.\"\"\"\n",
    "        else:\n",
    "            for problem in problems:\n",
    "                problem = problem.strip()\n",
    "                if '+' in problem:\n",
    "                    values = problem.split('+')\n",
    "                    if len(values) > 2:\n",
    "                        arranged_problems = \"\"\"Error: You introduce more than one operation. The correct format is 'n1 + n2' or 'n1 - n2' \"\"\"\n",
    "                        break\n",
    "                    else:\n",
    "                        if values[0].strip().isdigit() and values[1].strip().isdigit():\n",
    "                            if len(values[0].strip()) > 4 or len(values[1].strip()) > 4:\n",
    "                                arranged_problems = 'Error: Numbers cannot be more than four digits.'\n",
    "                                break \n",
    "                            else:\n",
    "                                numbers_per_operation.append([int(values[0].strip()), int(values[1].strip())])\n",
    "                                results.append(int(values[0].strip()) + int(values[1].strip()) )\n",
    "                                operations.append('+')\n",
    "                        else:\n",
    "                            arranged_problems = 'Error: Numbers must only contain digits.'\n",
    "                            break\n",
    "                elif '-' in problem:\n",
    "                    values = problem.split('-')\n",
    "                    if len(values) > 2:\n",
    "                        arranged_problems = \"\"\"Error: You introduce more than one operation. The correct format is 'n1 + n2' or 'n1 - n2' \"\"\"\n",
    "                        break\n",
    "                    else:\n",
    "                        if values[0].strip().isdigit() and values[1].strip().isdigit():\n",
    "                            if len(values[0].strip()) > 4 or len(values[1].strip()) > 4:\n",
    "                                arranged_problems = 'Error: Numbers cannot be more than four digits.'\n",
    "                                break\n",
    "                            else:\n",
    "                                numbers_per_operation.append([int(values[0].strip()), int(values[1].strip())])\n",
    "                                results.append(int(values[0].strip()) - int(values[1].strip()) )\n",
    "                                operations.append('-')\n",
    "                        else:\n",
    "                            arranged_problems = 'Error: Numbers must only contain digits.'\n",
    "                            break\n",
    "\n",
    "                else:\n",
    "                    arranged_problems = \"\"\"Error: Incorrect Format. The correct format is 'n1 + n2' or 'n1 - n2' \"\"\"\n",
    "                    break\n",
    "\n",
    "    if results and numbers_per_operation and operations and len(problems) == len(results):\n",
    "        arranged_problems = ''\n",
    "        first_line = ''\n",
    "        second_line = ''\n",
    "        third_line = ''\n",
    "        fourth_line = ''\n",
    "        for i in range(len(results)):\n",
    "            if i != (len(results) -1):\n",
    "                n = max(len(str(numbers_per_operation[i][0])) , len(str(numbers_per_operation[i][1])))\n",
    "                total_chars = n + 2\n",
    "                first_line += ' '*(total_chars-len(str(numbers_per_operation[i][0]))) + str(numbers_per_operation[i][0]) +' '*4\n",
    "                second_line += operations[i] + ' '*(total_chars-len(str(numbers_per_operation[i][1]))-1) + str(numbers_per_operation[i][1]) +' '*4\n",
    "                third_line += '-'* total_chars +' '*4\n",
    "                fourth_line += ' '*(total_chars-len(str(results[i])))+ str(results[i]) +' '*4\n",
    "            else:\n",
    "                n = max(len(str(numbers_per_operation[i][0])) , len(str(numbers_per_operation[i][1])))\n",
    "                total_chars = n + 2\n",
    "                first_line += ' '*(total_chars-len(str(numbers_per_operation[i][0]))) + str(numbers_per_operation[i][0])\n",
    "                second_line += operations[i] + ' '*(total_chars-len(str(numbers_per_operation[i][1]))-1) + str(numbers_per_operation[i][1])\n",
    "                third_line += '-'* total_chars\n",
    "                fourth_line += ' '*(total_chars-len(str(results[i])))+ str(results[i])\n",
    "                \n",
    "        if show_results == True:\n",
    "            arranged_problems = first_line +'\\n'+ second_line +'\\n' + third_line +'\\n' + fourth_line\n",
    "        else:\n",
    "            arranged_problems = first_line +'\\n'+ second_line +'\\n' + third_line\n",
    "    return arranged_problems\n",
    "\n",
    "\n",
    "\n",
    "\n"
   ]
  },
  {
   "cell_type": "code",
   "execution_count": 141,
   "id": "f3699fb0-a68d-4ded-8736-a92602896fe7",
   "metadata": {},
   "outputs": [
    {
     "name": "stdout",
     "output_type": "stream",
     "text": [
      "  3801      123\n",
      "-    2    +  49\n",
      "------    -----\n"
     ]
    }
   ],
   "source": [
    "print(arithmetic_arranger(problems))"
   ]
  },
  {
   "cell_type": "code",
   "execution_count": 142,
   "id": "d870ef0c-49a8-4377-a7da-dc761f8de87d",
   "metadata": {},
   "outputs": [
    {
     "name": "stdout",
     "output_type": "stream",
     "text": [
      "  3801      123\n",
      "-    2    +  49\n",
      "------    -----\n",
      "  3799      172\n"
     ]
    }
   ],
   "source": [
    "print(arithmetic_arranger(problems, True))"
   ]
  }
 ],
 "metadata": {
  "kernelspec": {
   "display_name": "Python 3 (ipykernel)",
   "language": "python",
   "name": "python3"
  },
  "language_info": {
   "codemirror_mode": {
    "name": "ipython",
    "version": 3
   },
   "file_extension": ".py",
   "mimetype": "text/x-python",
   "name": "python",
   "nbconvert_exporter": "python",
   "pygments_lexer": "ipython3",
   "version": "3.10.5"
  }
 },
 "nbformat": 4,
 "nbformat_minor": 5
}
