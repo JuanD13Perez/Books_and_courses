{
 "cells": [
  {
   "cell_type": "markdown",
   "id": "1c353128-cb71-4852-91ea-8022e4de86be",
   "metadata": {},
   "source": [
    "# Polygon Area Calculator\n",
    "\n",
    "### This is a project from FreeCodeCamp, see [here](https://www.freecodecamp.org/learn/scientific-computing-with-python/scientific-computing-with-python-projects/polygon-area-calculator) for details"
   ]
  },
  {
   "cell_type": "code",
   "execution_count": 105,
   "id": "87955cce-029e-4f34-89a0-363835bf6ff9",
   "metadata": {},
   "outputs": [],
   "source": [
    "class Rectangle:\n",
    "    def __init__(self, width, height):\n",
    "        self.width = width\n",
    "        self.height = height\n",
    "    def set_width(self, width):\n",
    "        self.width = width\n",
    "    def set_height(self, height):\n",
    "        self.height = height\n",
    "    def get_area(self):\n",
    "        return self.width * self.height\n",
    "    def get_perimeter(self):\n",
    "        return 2 * self.width + 2 * self.height\n",
    "    def get_diagonal(self):\n",
    "        return (self.width ** 2 + self.height ** 2) ** .5\n",
    "    def get_picture(self):\n",
    "        if self.width > 50 or self.height > 50:\n",
    "            return 'Too big for picture.'\n",
    "        else:\n",
    "            picture = ''\n",
    "            for i in range(self.height):\n",
    "                picture += '*'*(self.width) + '\\n'\n",
    "            return picture\n",
    "        \n",
    "    def get_amount_inside(self, shape):\n",
    "        return ( self.width // shape.width) * ( self.height // shape.height) \n",
    "    \n",
    "    def __str__(self):\n",
    "        return f'Rectangle(width={self.width}, height={self.height})'\n",
    "\n",
    "class Square(Rectangle):\n",
    "    def __init__(self, length):\n",
    "        super().__init__(length, length)\n",
    "        \n",
    "    def set_side(self, length):\n",
    "        super().set_height(length)\n",
    "        super().set_width(length)\n",
    "        \n",
    "    def set_height(self, l):\n",
    "        super().set_height(l)\n",
    "        super().set_width(l)\n",
    "        \n",
    "    def set_width(self,l):\n",
    "        super().set_height(l)\n",
    "        super().set_width(l)\n",
    "    def __str__(self):\n",
    "        return f'Square(side={self.width})'"
   ]
  },
  {
   "cell_type": "markdown",
   "id": "27f10232-d4c4-4563-ab44-b20f271b2b06",
   "metadata": {},
   "source": [
    "### Test\n",
    "\n",
    "#### Below there is an image that show that all the test were succesfully completed."
   ]
  },
  {
   "cell_type": "markdown",
   "id": "ab996959-24e7-472d-bd50-27db4342fb6e",
   "metadata": {},
   "source": [
    "![All test Passed](Results_4.png )"
   ]
  }
 ],
 "metadata": {
  "kernelspec": {
   "display_name": "Python 3 (ipykernel)",
   "language": "python",
   "name": "python3"
  },
  "language_info": {
   "codemirror_mode": {
    "name": "ipython",
    "version": 3
   },
   "file_extension": ".py",
   "mimetype": "text/x-python",
   "name": "python",
   "nbconvert_exporter": "python",
   "pygments_lexer": "ipython3",
   "version": "3.10.5"
  }
 },
 "nbformat": 4,
 "nbformat_minor": 5
}
