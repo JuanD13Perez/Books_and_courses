{
 "cells": [
  {
   "cell_type": "markdown",
   "id": "d59739db-416e-4368-8288-80c9d2081ee8",
   "metadata": {},
   "source": [
    "# Free Code Camp Time Calculator\n",
    "## See [FCC](https://www.freecodecamp.org/learn/scientific-computing-with-python/scientific-computing-with-python-projects/time-calculator) for an explanation"
   ]
  },
  {
   "cell_type": "code",
   "execution_count": 94,
   "id": "bd641c43-183c-497f-8557-e6f00074e20e",
   "metadata": {},
   "outputs": [],
   "source": [
    "def add_time(start, duration, day = ''):\n",
    "    # Strip string to avoid whitespaces problems\n",
    "    start = start.strip()\n",
    "    duration = duration.strip()\n",
    "    day = day.strip()\n",
    "    \n",
    "    # Get hours and minutes for the addition.\n",
    "    hours = duration.split(':')[0]\n",
    "    minutes = duration.split(':')[1]\n",
    "    \n",
    "    #case insentive day lecture\n",
    "    day = day.lower()\n",
    "    day_dict = {'monday': 0, 'tuesday': 1,'wednesday': 2,'thursday': 3,'friday': 4,'saturday': 5,'sunday': 6}\n",
    "    \n",
    "    #get am or pm\n",
    "    tm = start.split()[1]\n",
    "    if tm == 'PM':\n",
    "        am_or_pm = 1\n",
    "    if tm == 'AM':\n",
    "        am_or_pm = 0\n",
    "    \n",
    "    start_h = start.split()[0].split(':')[0]\n",
    "    start_m = start.split()[0].split(':')[1]\n",
    "    \n",
    "    if tm == 'AM':        \n",
    "        if int(start_m) + int(minutes) >= 60:\n",
    "            n_changestm = (int(start_h) + int(hours) + 1)//12 \n",
    "            if n_changestm % 2 == 0:\n",
    "                n_days = n_changestm / 2\n",
    "                am_or_pm = 'AM'\n",
    "            elif n_changestm % 2 == 1: \n",
    "                n_days = (n_changestm - 1) / 2\n",
    "                am_or_pm = 'PM'\n",
    "        elif int(start_m) + int(minutes) < 60:\n",
    "            n_changestm = (int(start_h) + int(hours) )//12 \n",
    "            if n_changestm % 2 == 0:\n",
    "                n_days = n_changestm / 2\n",
    "                am_or_pm = 'AM'\n",
    "            elif n_changestm % 2 == 1: \n",
    "                n_days = (n_changestm - 1) / 2\n",
    "                am_or_pm = 'PM'\n",
    "    elif tm == 'PM':\n",
    "        if int(start_m) + int(minutes) >= 60:\n",
    "            n_changestm = (int(start_h) + int(hours) + 1)//12 \n",
    "            if n_changestm % 2 == 0:\n",
    "                n_days = n_changestm / 2\n",
    "                am_or_pm = 'PM'\n",
    "            elif n_changestm % 2 == 1: \n",
    "                n_days = (n_changestm + 1) / 2\n",
    "                am_or_pm = 'AM'\n",
    "        elif int(start_m) + int(minutes) < 60:\n",
    "            n_changestm = (int(start_h) + int(hours))//12 \n",
    "            if n_changestm % 2 == 0:\n",
    "                n_days = n_changestm / 2\n",
    "                am_or_pm = 'PM'\n",
    "            elif n_changestm % 2 == 1: \n",
    "                n_days = (n_changestm + 1) / 2\n",
    "                am_or_pm = 'AM'\n",
    "                \n",
    "    if int(start_m) + int(minutes) >= 60:\n",
    "        final_hour = (int(start_h) + int(hours)+1) % 12 \n",
    "        final_minute = (int(start_m) + int(minutes)) % 60\n",
    "    elif int(start_m) + int(minutes) < 60:\n",
    "        final_hour = (int(start_h) + int(hours)) % 12 \n",
    "        final_minute = (int(start_m) + int(minutes)) % 60\n",
    "        \n",
    "    if day == '':\n",
    "        if final_hour == 0:\n",
    "            if final_minute < 10:\n",
    "                if n_days == 0:\n",
    "                    new_time = '12' + ':0' + str(final_minute) + ' ' +am_or_pm\n",
    "                elif n_days == 1:\n",
    "                    new_time = '12' + ':0' + str(final_minute) + ' ' + am_or_pm + ' (next day)'\n",
    "                else: \n",
    "                    new_time = '12' + ':0' + str(final_minute)+ ' ' + am_or_pm + f' ({int(n_days)} days later)'\n",
    "            else:\n",
    "                if n_days == 0:\n",
    "                    new_time = '12' + ':' + str(final_minute)+ ' ' + am_or_pm\n",
    "                elif n_days == 1:\n",
    "                    new_time = '12' + ':' + str(final_minute)+ ' ' + am_or_pm + ' (next day)'\n",
    "                else: \n",
    "                    new_time = '12' + ':' + str(final_minute)+ ' ' + am_or_pm + f' ({int(n_days)} days later)'\n",
    "        else:\n",
    "            if final_minute < 10:\n",
    "                if n_days == 0:\n",
    "                    new_time = str(final_hour) + ':0' + str(final_minute) + ' '+ am_or_pm\n",
    "                elif n_days == 1:\n",
    "                    new_time = str(final_hour) + ':0' + str(final_minute)+ ' ' + am_or_pm + ' (next day)'\n",
    "                else: \n",
    "                    new_time = str(final_hour) + ':0' + str(final_minute)+ ' ' + am_or_pm + f' ({int(n_days)} days later)'\n",
    "            else:\n",
    "                if n_days == 0:\n",
    "                    new_time = str(final_hour) + ':' + str(final_minute)+ ' ' + am_or_pm\n",
    "                elif n_days == 1:\n",
    "                    new_time = str(final_hour) + ':' + str(final_minute)+ ' ' + am_or_pm + ' (next day)'\n",
    "                else: \n",
    "                    new_time = str(final_hour) + ':' + str(final_minute)+ ' ' + am_or_pm + f' ({int(n_days)} days later)'\n",
    "    else:\n",
    "        final_day = list(day_dict.keys())[list(day_dict.values()).index((day_dict[day] + n_days)%7)]\n",
    "        if final_hour == 0:\n",
    "            if final_minute < 10:\n",
    "                if n_days == 0:\n",
    "                    new_time = '12' + ':0' + str(final_minute)+ ' ' + am_or_pm + f', {final_day.capitalize()}'\n",
    "                elif n_days == 1:\n",
    "                    new_time = '12' + ':0' + str(final_minute)+ ' ' + am_or_pm + f', {final_day.capitalize()}' + ' (next day)'\n",
    "                else: \n",
    "                    new_time = '12' + ':0' + str(final_minute)+ ' ' + am_or_pm + f', {final_day.capitalize()}' + f' ({int(n_days)} days later)'\n",
    "            else:\n",
    "                if n_days == 0:\n",
    "                    new_time = '12' + ':' + str(final_minute)+ ' ' + am_or_pm + f', {final_day.capitalize()}'\n",
    "                elif n_days == 1:\n",
    "                    new_time = '12' + ':' + str(final_minute)+ ' ' + am_or_pm + f', {final_day.capitalize()}' + ' (next day)'\n",
    "                else: \n",
    "                    new_time = '12' + ':' + str(final_minute)+ ' ' + am_or_pm + f', {final_day.capitalize()}' + f' ({int(n_days)} days later)'\n",
    "        else:\n",
    "            if final_minute < 10:\n",
    "                if n_days == 0:\n",
    "                    new_time = str(final_hour) + ':0' + str(final_minute)+ ' ' + am_or_pm + f', {final_day.capitalize()}'\n",
    "                elif n_days == 1:\n",
    "                    new_time = str(final_hour) + ':0' + str(final_minute)+ ' ' + am_or_pm + f', {final_day.capitalize()}' + ' (next day)'\n",
    "                else: \n",
    "                    new_time = str(final_hour) + ':0' + str(final_minute)+ ' ' + am_or_pm + f', {final_day.capitalize()}' + f' ({int(n_days)} days later)'\n",
    "            else:\n",
    "                if n_days == 0:\n",
    "                    new_time = str(final_hour) + ':' + str(final_minute)+ ' ' + am_or_pm + f', {final_day.capitalize()}'\n",
    "                elif n_days == 1:\n",
    "                    new_time = str(final_hour) + ':' + str(final_minute)+ ' ' + am_or_pm + f', {final_day.capitalize()}' + ' (next day)'\n",
    "                else: \n",
    "                    new_time = str(final_hour) + ':' + str(final_minute)+ ' ' + am_or_pm + f', {final_day.capitalize()}' + f' ({int(n_days)} days later)'\n",
    "    \n",
    "        \n",
    "    return new_time"
   ]
  },
  {
   "cell_type": "code",
   "execution_count": 91,
   "id": "49e4d148-fd72-4b4a-85e8-7666427bf58a",
   "metadata": {},
   "outputs": [
    {
     "data": {
      "text/plain": [
       "'5:42 PM'"
      ]
     },
     "execution_count": 91,
     "metadata": {},
     "output_type": "execute_result"
    }
   ],
   "source": [
    "add_time(\"3:30 PM\", \"2:12\")"
   ]
  },
  {
   "cell_type": "code",
   "execution_count": 92,
   "id": "25665cc9-0fdc-47a3-bda3-2f8f01f05f4d",
   "metadata": {},
   "outputs": [
    {
     "data": {
      "text/plain": [
       "'3:07 PM'"
      ]
     },
     "execution_count": 92,
     "metadata": {},
     "output_type": "execute_result"
    }
   ],
   "source": [
    "add_time(\"11:55 AM\", \"3:12\")"
   ]
  },
  {
   "cell_type": "code",
   "execution_count": 96,
   "id": "4ccde2c8-255e-45d5-85ca-c4eb14df2659",
   "metadata": {},
   "outputs": [
    {
     "data": {
      "text/plain": [
       "'2:45 AM (next day)'"
      ]
     },
     "execution_count": 96,
     "metadata": {},
     "output_type": "execute_result"
    }
   ],
   "source": [
    "add_time(\"9:15 PM\", \"5:30\")"
   ]
  },
  {
   "cell_type": "code",
   "execution_count": 97,
   "id": "54400a32-9c1d-40e9-a5f4-db6197d7edb6",
   "metadata": {},
   "outputs": [
    {
     "data": {
      "text/plain": [
       "'12:05 PM'"
      ]
     },
     "execution_count": 97,
     "metadata": {},
     "output_type": "execute_result"
    }
   ],
   "source": [
    "add_time(\"11:40 AM\", \"0:25\")"
   ]
  },
  {
   "cell_type": "code",
   "execution_count": 98,
   "id": "50cb8ae6-9843-4cc8-b3d3-2b1ed1696d06",
   "metadata": {},
   "outputs": [
    {
     "data": {
      "text/plain": [
       "'2:59 AM (next day)'"
      ]
     },
     "execution_count": 98,
     "metadata": {},
     "output_type": "execute_result"
    }
   ],
   "source": [
    "add_time(\"2:59 AM\", \"24:00\")"
   ]
  },
  {
   "cell_type": "code",
   "execution_count": 99,
   "id": "fc936e2c-74b2-4cbf-b2f4-458f2047ca7b",
   "metadata": {},
   "outputs": [
    {
     "data": {
      "text/plain": [
       "'12:04 AM (2 days later)'"
      ]
     },
     "execution_count": 99,
     "metadata": {},
     "output_type": "execute_result"
    }
   ],
   "source": [
    "add_time(\"11:59 PM\", \"24:05\")"
   ]
  },
  {
   "cell_type": "code",
   "execution_count": 95,
   "id": "54701b8b-70fa-4b05-a241-87a3114a0d62",
   "metadata": {},
   "outputs": [
    {
     "data": {
      "text/plain": [
       "'6:18 AM (20 days later)'"
      ]
     },
     "execution_count": 95,
     "metadata": {},
     "output_type": "execute_result"
    }
   ],
   "source": [
    "add_time(\"8:16 PM\", \"466:02\")"
   ]
  },
  {
   "cell_type": "code",
   "execution_count": 100,
   "id": "52ebad82-50b9-49d6-8ddc-b1b5748bc5a2",
   "metadata": {},
   "outputs": [
    {
     "data": {
      "text/plain": [
       "'5:01 AM'"
      ]
     },
     "execution_count": 100,
     "metadata": {},
     "output_type": "execute_result"
    }
   ],
   "source": [
    "add_time(\"5:01 AM\", \"0:00\")"
   ]
  },
  {
   "cell_type": "code",
   "execution_count": 101,
   "id": "34e7fc18-c1fc-4170-9f25-03d2a2ef326c",
   "metadata": {},
   "outputs": [
    {
     "data": {
      "text/plain": [
       "'5:42 PM, Monday'"
      ]
     },
     "execution_count": 101,
     "metadata": {},
     "output_type": "execute_result"
    }
   ],
   "source": [
    "add_time(\"3:30 PM\", \"2:12\", \"Monday\")"
   ]
  },
  {
   "cell_type": "code",
   "execution_count": 102,
   "id": "d61fa285-092d-46ad-b776-9710a01132c3",
   "metadata": {},
   "outputs": [
    {
     "data": {
      "text/plain": [
       "'2:59 AM, Sunday (next day)'"
      ]
     },
     "execution_count": 102,
     "metadata": {},
     "output_type": "execute_result"
    }
   ],
   "source": [
    "add_time(\"2:59 AM\", \"24:00\", \"saturDay\")"
   ]
  },
  {
   "cell_type": "code",
   "execution_count": 103,
   "id": "d43bd0db-29dc-4716-9ecc-b6113ea556eb",
   "metadata": {},
   "outputs": [
    {
     "data": {
      "text/plain": [
       "'12:04 AM, Friday (2 days later)'"
      ]
     },
     "execution_count": 103,
     "metadata": {},
     "output_type": "execute_result"
    }
   ],
   "source": [
    "add_time(\"11:59 PM\", \"24:05\", \"Wednesday\")"
   ]
  },
  {
   "cell_type": "code",
   "execution_count": 104,
   "id": "b1212446-1e59-4122-9d2a-84979811c7b1",
   "metadata": {},
   "outputs": [
    {
     "data": {
      "text/plain": [
       "'6:18 AM, Monday (20 days later)'"
      ]
     },
     "execution_count": 104,
     "metadata": {},
     "output_type": "execute_result"
    }
   ],
   "source": [
    "add_time(\"8:16 PM\", \"466:02\", \"tuesday\")"
   ]
  }
 ],
 "metadata": {
  "kernelspec": {
   "display_name": "Python 3 (ipykernel)",
   "language": "python",
   "name": "python3"
  },
  "language_info": {
   "codemirror_mode": {
    "name": "ipython",
    "version": 3
   },
   "file_extension": ".py",
   "mimetype": "text/x-python",
   "name": "python",
   "nbconvert_exporter": "python",
   "pygments_lexer": "ipython3",
   "version": "3.10.5"
  }
 },
 "nbformat": 4,
 "nbformat_minor": 5
}
