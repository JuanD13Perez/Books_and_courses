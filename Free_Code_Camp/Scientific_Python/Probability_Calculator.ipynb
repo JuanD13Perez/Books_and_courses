{
 "cells": [
  {
   "cell_type": "markdown",
   "id": "fd5451ec-728d-479d-931c-0dff24757286",
   "metadata": {},
   "source": [
    "# Probability Calculator\n",
    "\n",
    "### For an explanation of what this does see [FCC](https://www.freecodecamp.org/learn/scientific-computing-with-python/scientific-computing-with-python-projects/probability-calculator)."
   ]
  },
  {
   "cell_type": "code",
   "execution_count": 19,
   "id": "1817ecb4-c279-4d26-9681-9a54777151be",
   "metadata": {},
   "outputs": [],
   "source": [
    "import copy\n",
    "import random\n",
    "# Consider using the modules imported above.\n",
    "\n",
    "class Hat:\n",
    "    def __init__(self, **kargs):\n",
    "        self.kargs = kargs\n",
    "        self.contents = list()\n",
    "        for color, number in kargs.items():\n",
    "            for i in range(number):\n",
    "                self.contents.append(color)\n",
    "    def draw(self, n):\n",
    "        removed = []\n",
    "        if n <= len(self.contents):\n",
    "            for i in range(n):\n",
    "                removed.append(self.contents.pop(random.randrange(len(self.contents))))\n",
    "        else:\n",
    "            removed = self.contents\n",
    "            self.contents = []\n",
    "        return removed\n",
    "    \n",
    "\n",
    "def experiment(hat, expected_balls, num_balls_drawn, num_experiments):\n",
    "    success = 0\n",
    "    for i in range(num_experiments):\n",
    "        copy_hat = copy.deepcopy(hat)\n",
    "        copy_expected_balls = copy.deepcopy(expected_balls)\n",
    "        copy_removed = copy_hat.draw(num_balls_drawn)\n",
    "\n",
    "        at_least = 0\n",
    "        for ball, num in copy_expected_balls.items():\n",
    "            if copy_removed.count(ball) >= num:\n",
    "                at_least += 1\n",
    "        if at_least == len(expected_balls):\n",
    "            success += 1\n",
    "\n",
    "    return success/num_experiments"
   ]
  },
  {
   "cell_type": "markdown",
   "id": "7ffd783f-49d9-47cb-9533-eb2a81dfd141",
   "metadata": {},
   "source": [
    "### Test\n",
    "#### Below there is an image that shows that all test were succesfully completed."
   ]
  },
  {
   "cell_type": "markdown",
   "id": "5b4cc4e8-c7ce-4157-9292-9b7156804ea1",
   "metadata": {},
   "source": [
    "![All test Passed](Results_5.png )"
   ]
  }
 ],
 "metadata": {
  "kernelspec": {
   "display_name": "Python 3 (ipykernel)",
   "language": "python",
   "name": "python3"
  },
  "language_info": {
   "codemirror_mode": {
    "name": "ipython",
    "version": 3
   },
   "file_extension": ".py",
   "mimetype": "text/x-python",
   "name": "python",
   "nbconvert_exporter": "python",
   "pygments_lexer": "ipython3",
   "version": "3.10.5"
  }
 },
 "nbformat": 4,
 "nbformat_minor": 5
}
