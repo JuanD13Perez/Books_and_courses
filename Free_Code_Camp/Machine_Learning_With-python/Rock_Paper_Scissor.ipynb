{
 "cells": [
  {
   "cell_type": "markdown",
   "id": "f0b0149a-bec5-4ae7-9b06-e118453fae2e",
   "metadata": {},
   "source": [
    "# Rock Paper and Scissors\n",
    "### For an explanation of this project please visit [FCC](https://www.freecodecamp.org/learn/machine-learning-with-python/machine-learning-with-python-projects/rock-paper-scissors)"
   ]
  },
  {
   "cell_type": "code",
   "execution_count": 222,
   "id": "2e62ba2a-9183-4174-9b93-a3c018759ee0",
   "metadata": {},
   "outputs": [],
   "source": [
    "import random\n",
    "\n",
    "\n",
    "def play(player1, player2, num_games, verbose=False):\n",
    "    p1_prev_play = \"\"\n",
    "    p2_prev_play = \"\"\n",
    "    results = {\"p1\": 0, \"p2\": 0, \"tie\": 0}\n",
    "\n",
    "    for _ in range(num_games):\n",
    "        p1_play = player1(p2_prev_play)\n",
    "        p2_play = player2(p1_prev_play)\n",
    "\n",
    "        if p1_play == p2_play:\n",
    "            results[\"tie\"] += 1\n",
    "            winner = \"Tie.\"\n",
    "        elif (p1_play == \"P\" and p2_play == \"R\") or (\n",
    "                p1_play == \"R\" and p2_play == \"S\") or (p1_play == \"S\"\n",
    "                                                       and p2_play == \"P\"):\n",
    "            results[\"p1\"] += 1\n",
    "            winner = \"Player 1 wins.\"\n",
    "        elif p2_play == \"P\" and p1_play == \"R\" or p2_play == \"R\" and p1_play == \"S\" or p2_play == \"S\" and p1_play == \"P\":\n",
    "            results[\"p2\"] += 1\n",
    "            winner = \"Player 2 wins.\"\n",
    "\n",
    "        if verbose:\n",
    "            print(\"Player 1:\", p1_play, \"| Player 2:\", p2_play)\n",
    "            print(winner)\n",
    "            print()\n",
    "\n",
    "        p1_prev_play = p1_play\n",
    "        p2_prev_play = p2_play\n",
    "\n",
    "    games_won = results['p2'] + results['p1']\n",
    "\n",
    "    if games_won == 0:\n",
    "        win_rate = 0\n",
    "    else:\n",
    "        win_rate = results['p1'] / games_won * 100\n",
    "\n",
    "    print(\"Final results:\", results)\n",
    "    print(f\"Player 1 win rate: {win_rate}%\")\n",
    "\n",
    "    return (win_rate)\n",
    "\n",
    "\n",
    "def quincy(prev_play, counter=[0]):\n",
    "\n",
    "    counter[0] += 1\n",
    "    choices = [\"R\", \"R\", \"P\", \"P\", \"S\"]\n",
    "    return choices[counter[0] % len(choices)]\n",
    "\n",
    "\n",
    "def mrugesh(prev_opponent_play, opponent_history=[]):\n",
    "    opponent_history.append(prev_opponent_play)\n",
    "    last_ten = opponent_history[-10:]\n",
    "    most_frequent = max(set(last_ten), key=last_ten.count)\n",
    "\n",
    "    if most_frequent == '':\n",
    "        most_frequent = \"S\"\n",
    "\n",
    "    ideal_response = {'P': 'S', 'R': 'P', 'S': 'R'}\n",
    "    return ideal_response[most_frequent]\n",
    "\n",
    "\n",
    "def kris(prev_opponent_play):\n",
    "    if prev_opponent_play == '':\n",
    "        prev_opponent_play = \"R\"\n",
    "    ideal_response = {'P': 'S', 'R': 'P', 'S': 'R'}\n",
    "    return ideal_response[prev_opponent_play]\n",
    "\n",
    "\n",
    "def abbey(prev_opponent_play,\n",
    "          opponent_history=[],\n",
    "          play_order=[{\n",
    "              \"RR\": 0,\n",
    "              \"RP\": 0,\n",
    "              \"RS\": 0,\n",
    "              \"PR\": 0,\n",
    "              \"PP\": 0,\n",
    "              \"PS\": 0,\n",
    "              \"SR\": 0,\n",
    "              \"SP\": 0,\n",
    "              \"SS\": 0,\n",
    "          }]):\n",
    "\n",
    "    if not prev_opponent_play:\n",
    "        prev_opponent_play = 'R'\n",
    "    opponent_history.append(prev_opponent_play)\n",
    "\n",
    "    last_two = \"\".join(opponent_history[-2:])\n",
    "    if len(last_two) == 2:\n",
    "        play_order[0][last_two] += 1\n",
    "\n",
    "    potential_plays = [\n",
    "        prev_opponent_play + \"R\",\n",
    "        prev_opponent_play + \"P\",\n",
    "        prev_opponent_play + \"S\",\n",
    "    ]\n",
    "\n",
    "    sub_order = {\n",
    "        k: play_order[0][k]\n",
    "        for k in potential_plays if k in play_order[0]\n",
    "    }\n",
    "\n",
    "    prediction = max(sub_order, key=sub_order.get)[-1:]\n",
    "\n",
    "    ideal_response = {'P': 'S', 'R': 'P', 'S': 'R'}\n",
    "    return ideal_response[prediction]\n",
    "\n",
    "\n",
    "def human(prev_opponent_play):\n",
    "    play = \"\"\n",
    "    while play not in ['R', 'P', 'S']:\n",
    "        play = input(\"[R]ock, [P]aper, [S]cissors? \")\n",
    "        print(play)\n",
    "    return play\n",
    "\n",
    "\n",
    "def random_player(prev_opponent_play):\n",
    "    return random.choice(['R', 'P', 'S'])\n"
   ]
  },
  {
   "cell_type": "code",
   "execution_count": 256,
   "id": "6aff1817-bb34-4b7a-8836-147af71c7374",
   "metadata": {},
   "outputs": [],
   "source": [
    "# We just do a Markov chain of lenght 5.\n",
    "def player(prev_play, opponent_history=[]):\n",
    "    if prev_play:\n",
    "        opponent_history.append(prev_play)\n",
    "    else:\n",
    "        opponent_history.clear()\n",
    "    guess = \"P\"\n",
    "    ideal_response = {'P': 'S', 'R': 'P', 'S': 'R'}\n",
    "\n",
    "    if len(opponent_history) >= 5:\n",
    "        # All the sequences of lenght 5 in the historial\n",
    "        play_order = [ ''.join(opponent_history[k:k+5]) for k, v in enumerate(opponent_history[:-4]) ]\n",
    "\n",
    "        potential_plays = [\n",
    "            ''.join(opponent_history[-4:]) + \"R\",\n",
    "            ''.join(opponent_history[-4:]) + \"P\",\n",
    "            ''.join(opponent_history[-4:]) + \"S\"\n",
    "            ]\n",
    "        # Satistical count of more common 3 sequences plays\n",
    "        sub_order = { \n",
    "            k: play_order.count(k) for k in potential_plays\n",
    "        }\n",
    "        # Same abbey strategy\n",
    "        prediction = max(sub_order, key=sub_order.get)[-1]\n",
    "        \n",
    "\n",
    "        guess = ideal_response[prediction]\n",
    "\n",
    "    return guess\n"
   ]
  },
  {
   "cell_type": "code",
   "execution_count": 257,
   "id": "e886d0f3-0409-4660-8b01-961346c19f63",
   "metadata": {},
   "outputs": [
    {
     "name": "stdout",
     "output_type": "stream",
     "text": [
      "Final results: {'p1': 491, 'p2': 244, 'tie': 265}\n",
      "Player 1 win rate: 66.80272108843538%\n"
     ]
    },
    {
     "data": {
      "text/plain": [
       "66.80272108843538"
      ]
     },
     "execution_count": 257,
     "metadata": {},
     "output_type": "execute_result"
    }
   ],
   "source": [
    "play(player, abbey, 1000)"
   ]
  },
  {
   "cell_type": "code",
   "execution_count": 258,
   "id": "2f1fae6e-6daf-4dfd-a35a-b1cd7dc5c169",
   "metadata": {},
   "outputs": [
    {
     "name": "stdout",
     "output_type": "stream",
     "text": [
      "Final results: {'p1': 994, 'p2': 2, 'tie': 4}\n",
      "Player 1 win rate: 99.79919678714859%\n"
     ]
    },
    {
     "data": {
      "text/plain": [
       "99.79919678714859"
      ]
     },
     "execution_count": 258,
     "metadata": {},
     "output_type": "execute_result"
    }
   ],
   "source": [
    "play(player, quincy, 1000)"
   ]
  },
  {
   "cell_type": "code",
   "execution_count": 259,
   "id": "d2ebff9c-4da9-4ff8-9ae5-76873d977641",
   "metadata": {},
   "outputs": [
    {
     "name": "stdout",
     "output_type": "stream",
     "text": [
      "Final results: {'p1': 840, 'p2': 155, 'tie': 5}\n",
      "Player 1 win rate: 84.42211055276381%\n"
     ]
    },
    {
     "data": {
      "text/plain": [
       "84.42211055276381"
      ]
     },
     "execution_count": 259,
     "metadata": {},
     "output_type": "execute_result"
    }
   ],
   "source": [
    "play(player, mrugesh, 1000)"
   ]
  },
  {
   "cell_type": "code",
   "execution_count": 260,
   "id": "32a773e8-af76-4d89-a801-9623075503ef",
   "metadata": {},
   "outputs": [
    {
     "name": "stdout",
     "output_type": "stream",
     "text": [
      "Final results: {'p1': 801, 'p2': 117, 'tie': 82}\n",
      "Player 1 win rate: 87.25490196078431%\n"
     ]
    },
    {
     "data": {
      "text/plain": [
       "87.25490196078431"
      ]
     },
     "execution_count": 260,
     "metadata": {},
     "output_type": "execute_result"
    }
   ],
   "source": [
    "play(player, kris, 1000)"
   ]
  },
  {
   "cell_type": "markdown",
   "id": "1cc63fe7-60c2-46bd-bfa8-e78cad90c836",
   "metadata": {},
   "source": [
    "## Results\n",
    "#### Below there is an image that shows that all the test were succesfully completed.\n",
    "\n",
    "![Image 1](Results_1.png)"
   ]
  },
  {
   "cell_type": "code",
   "execution_count": null,
   "id": "1d2bfd2e-2eda-453f-ae00-bf6c4a6a5f66",
   "metadata": {},
   "outputs": [],
   "source": []
  },
  {
   "cell_type": "code",
   "execution_count": null,
   "id": "498e76ae-6c50-4ddb-991d-2e88ed49f6e9",
   "metadata": {},
   "outputs": [],
   "source": []
  }
 ],
 "metadata": {
  "kernelspec": {
   "display_name": "Python 3 (ipykernel)",
   "language": "python",
   "name": "python3"
  },
  "language_info": {
   "codemirror_mode": {
    "name": "ipython",
    "version": 3
   },
   "file_extension": ".py",
   "mimetype": "text/x-python",
   "name": "python",
   "nbconvert_exporter": "python",
   "pygments_lexer": "ipython3",
   "version": "3.10.5"
  }
 },
 "nbformat": 4,
 "nbformat_minor": 5
}
