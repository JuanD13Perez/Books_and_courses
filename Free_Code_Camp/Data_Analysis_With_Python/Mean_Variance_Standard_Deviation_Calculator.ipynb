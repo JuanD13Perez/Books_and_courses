{
 "cells": [
  {
   "cell_type": "markdown",
   "id": "14cef64a-0946-4400-8bdc-58445acd1597",
   "metadata": {},
   "source": [
    "# Mean Variance Calculator\n",
    "### For an explanation of this project please visit: [FCC](https://www.freecodecamp.org/learn/data-analysis-with-python/data-analysis-with-python-projects/mean-variance-standard-deviation-calculator)"
   ]
  },
  {
   "cell_type": "code",
   "execution_count": 35,
   "id": "351b8a8f-ecdd-4beb-8004-4147efa3a8db",
   "metadata": {},
   "outputs": [],
   "source": [
    "import numpy as np\n",
    "\n",
    "def calculate(list):\n",
    "    if len(list) == 9 :\n",
    "        R1 = list[:3]\n",
    "        R2 = list[3:6]\n",
    "        R3 = list[6:9]\n",
    "        \n",
    "        m = []\n",
    "        m.append(R1)\n",
    "        m.append(R2)\n",
    "        m.append(R3)\n",
    "        \n",
    "        A = np.array(m)\n",
    "        \n",
    "        calculations = dict()\n",
    "        mean = []\n",
    "        mean.append(A.mean(axis = 0).tolist())\n",
    "        mean.append(A.mean(axis = 1).tolist())\n",
    "        mean.append(A.mean().tolist())\n",
    "        calculations['mean'] = mean\n",
    "        \n",
    "        var = []\n",
    "        var.append(A.var(axis = 0).tolist())\n",
    "        var.append(A.var(axis = 1).tolist())\n",
    "        var.append(A.var().tolist())\n",
    "        calculations['variance'] = var\n",
    "        \n",
    "        std = []\n",
    "        std.append(A.std(axis = 0).tolist())\n",
    "        std.append(A.std(axis = 1).tolist())\n",
    "        std.append(A.std().tolist())\n",
    "        calculations['standard deviation'] = std\n",
    "        \n",
    "        maxA = []\n",
    "        maxA.append(A.max(axis = 0).tolist())\n",
    "        maxA.append(A.max(axis = 1).tolist())\n",
    "        maxA.append(A.max().tolist())\n",
    "        calculations['max'] = maxA\n",
    "        \n",
    "        minA = []\n",
    "        minA.append(A.min(axis = 0).tolist())\n",
    "        minA.append(A.min(axis = 1).tolist())\n",
    "        minA.append(A.min().tolist())\n",
    "        calculations['min'] = minA\n",
    "        \n",
    "        sumA = []\n",
    "        sumA.append(A.sum(axis = 0).tolist())\n",
    "        sumA.append(A.sum(axis = 1).tolist())\n",
    "        sumA.append(A.sum().tolist())\n",
    "        calculations['sum'] = sumA\n",
    "\n",
    "    else:\n",
    "         raise ValueError('List must contain nine numbers.')\n",
    "    \n",
    "    return calculations"
   ]
  },
  {
   "cell_type": "code",
   "execution_count": 36,
   "id": "ab4e674b-fb57-4bfe-8771-251d4781ade0",
   "metadata": {},
   "outputs": [
    {
     "data": {
      "text/plain": [
       "{'mean': [[3.0, 4.0, 5.0], [1.0, 4.0, 7.0], 4.0],\n",
       " 'variance': [[6.0, 6.0, 6.0],\n",
       "  [0.6666666666666666, 0.6666666666666666, 0.6666666666666666],\n",
       "  6.666666666666667],\n",
       " 'standard deviation': [[2.449489742783178,\n",
       "   2.449489742783178,\n",
       "   2.449489742783178],\n",
       "  [0.816496580927726, 0.816496580927726, 0.816496580927726],\n",
       "  2.581988897471611],\n",
       " 'max': [[6, 7, 8], [2, 5, 8], 8],\n",
       " 'min': [[0, 1, 2], [0, 3, 6], 0],\n",
       " 'sum': [[9, 12, 15], [3, 12, 21], 36]}"
      ]
     },
     "execution_count": 36,
     "metadata": {},
     "output_type": "execute_result"
    }
   ],
   "source": [
    "calculate([0,1,2,3,4,5,6,7,8])"
   ]
  },
  {
   "cell_type": "markdown",
   "id": "645fd42d-8cad-447e-9b33-4c23c686bfe3",
   "metadata": {},
   "source": [
    "### Results\n",
    "\n",
    "The image below shows that all test were successfully completed.\n",
    "\n",
    "![Image_1](Results_1.png)"
   ]
  }
 ],
 "metadata": {
  "kernelspec": {
   "display_name": "Python 3 (ipykernel)",
   "language": "python",
   "name": "python3"
  },
  "language_info": {
   "codemirror_mode": {
    "name": "ipython",
    "version": 3
   },
   "file_extension": ".py",
   "mimetype": "text/x-python",
   "name": "python",
   "nbconvert_exporter": "python",
   "pygments_lexer": "ipython3",
   "version": "3.10.5"
  }
 },
 "nbformat": 4,
 "nbformat_minor": 5
}
